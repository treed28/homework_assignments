{
 "cells": [
  {
   "cell_type": "markdown",
   "metadata": {},
   "source": [
    "# Introduction\n",
    "\n",
    "This is a basic pseudo-code outline for how to perform basic reduction and calibration on HRPO data. You will need to write the code and reduction processes using ccdproc and the other appropriate packages.\n",
    "\n",
    "# Code outline\n",
    "\n",
    "1. Import necessary packages\n",
    "2. Gather all data\n",
    "3. Prepare for reduction\n",
    "    - Make master bias\n",
    "    - Make master dark\n",
    "    - Make master flat(s)\n",
    "4. Reduce the data\n",
    "    - Use ccd_process to perform reduction and calibration\n",
    "    - Optional: Plate solve images\n",
    "    - Write out calibrated and solved data to a different directory, or with a different name\n",
    "---"
   ]
  },
  {
   "cell_type": "markdown",
   "metadata": {},
   "source": [
    "### Name: \n",
    "\n",
    "## 0. Rename this notebook so that it has your name in it and put your name in the comment above.\n",
    "## 1. Import all of the necessary packages:\n",
    "    - os\n",
    "    - sys\n",
    "    - numpy\n",
    "    - ccdproc\n",
    "    - astropy.units\n",
    "    - aperturePhot.showimage\n",
    "    "
   ]
  },
  {
   "cell_type": "code",
   "execution_count": 4,
   "metadata": {
    "execution": {
     "iopub.execute_input": "2024-09-09T22:12:55.322780Z",
     "iopub.status.busy": "2024-09-09T22:12:55.322223Z",
     "iopub.status.idle": "2024-09-09T22:12:56.718387Z",
     "shell.execute_reply": "2024-09-09T22:12:56.716395Z",
     "shell.execute_reply.started": "2024-09-09T22:12:55.322732Z"
    }
   },
   "outputs": [],
   "source": [
    "import sys\n",
    "sys.path.append('/home/idies/persistent/hrpo-pipeline')\n",
    "from aperturePhot import showimage"
   ]
  },
  {
   "cell_type": "code",
   "execution_count": 30,
   "metadata": {
    "execution": {
     "iopub.execute_input": "2024-09-10T02:15:38.309437Z",
     "iopub.status.busy": "2024-09-10T02:15:38.308847Z",
     "iopub.status.idle": "2024-09-10T02:15:38.317758Z",
     "shell.execute_reply": "2024-09-10T02:15:38.315994Z",
     "shell.execute_reply.started": "2024-09-10T02:15:38.309388Z"
    },
    "tags": []
   },
   "outputs": [],
   "source": [
    "import os\n",
    "import sys\n",
    "import numpy as np\n",
    "import ccdproc as ccdp"
   ]
  },
  {
   "cell_type": "code",
   "execution_count": 14,
   "metadata": {
    "execution": {
     "iopub.execute_input": "2024-09-09T22:34:52.199441Z",
     "iopub.status.busy": "2024-09-09T22:34:52.198919Z",
     "iopub.status.idle": "2024-09-09T22:34:52.206605Z",
     "shell.execute_reply": "2024-09-09T22:34:52.205046Z",
     "shell.execute_reply.started": "2024-09-09T22:34:52.199394Z"
    },
    "tags": []
   },
   "outputs": [],
   "source": [
    "import astropy.units as u"
   ]
  },
  {
   "cell_type": "code",
   "execution_count": 7,
   "metadata": {
    "execution": {
     "iopub.execute_input": "2024-09-09T22:13:10.101687Z",
     "iopub.status.busy": "2024-09-09T22:13:10.101163Z",
     "iopub.status.idle": "2024-09-09T22:13:10.109499Z",
     "shell.execute_reply": "2024-09-09T22:13:10.108062Z",
     "shell.execute_reply.started": "2024-09-09T22:13:10.101641Z"
    },
    "tags": []
   },
   "outputs": [],
   "source": [
    "from aperturePhot import showimage"
   ]
  },
  {
   "cell_type": "markdown",
   "metadata": {},
   "source": [
    "## 2. Gather all data\n",
    "\n",
    "Define a string to store the path to the data directory you are working in.\n",
    "Use `os.path.join` to merge together the string \"/home/idies/workspace/\" with the data directory path string.\n",
    "\n",
    "Use `os.chdir` to move into the data directory. This will let us use relative paths instead of absolute.\n",
    "\n",
    "```\n",
    "base = \"/home/idies/workspace/\"\n",
    "data_dir = \"\"\n",
    "\n",
    "path = os.path.join(...)\n",
    "os.chdir(path)\n",
    "```\n",
    "\n",
    "Use the conditional `os.path.exists` to check if there is a directory called \"reduced\" in the current directory. If there isn't, then make it with os.mkdir\n",
    "\n",
    "In python you can check a condition with an if statement such as:\n",
    "\n",
    "```\n",
    "if condition:\n",
    "     do something\n",
    "````\n",
    "Use `ccdp.ImageFileCollection` on the current directory to get a list of of all the images in the current directory as strings. I refer to this complete collection as `images`\n",
    "```\n",
    "images = ccdp.ImageFileCollection(...)\n",
    "```\n"
   ]
  },
  {
   "cell_type": "code",
   "execution_count": 8,
   "metadata": {
    "execution": {
     "iopub.execute_input": "2024-09-09T22:13:21.097984Z",
     "iopub.status.busy": "2024-09-09T22:13:21.097413Z",
     "iopub.status.idle": "2024-09-09T22:13:21.107262Z",
     "shell.execute_reply": "2024-09-09T22:13:21.105287Z",
     "shell.execute_reply.started": "2024-09-09T22:13:21.097937Z"
    },
    "tags": []
   },
   "outputs": [],
   "source": [
    "base = \"/home/idies/workspace/\"\n",
    "data_dir = \"Temporary/treed28/scratch/20240903\"\n",
    "\n",
    "path = os.path.join(base, data_dir)\n",
    "os.chdir(path)"
   ]
  },
  {
   "cell_type": "code",
   "execution_count": 9,
   "metadata": {
    "execution": {
     "iopub.execute_input": "2024-09-09T22:13:26.114840Z",
     "iopub.status.busy": "2024-09-09T22:13:26.113149Z",
     "iopub.status.idle": "2024-09-09T22:13:26.124376Z",
     "shell.execute_reply": "2024-09-09T22:13:26.122919Z",
     "shell.execute_reply.started": "2024-09-09T22:13:26.114791Z"
    },
    "tags": []
   },
   "outputs": [
    {
     "data": {
      "text/plain": [
       "<function genericpath.exists(path)>"
      ]
     },
     "execution_count": 9,
     "metadata": {},
     "output_type": "execute_result"
    }
   ],
   "source": [
    "os.path.exists"
   ]
  },
  {
   "cell_type": "code",
   "execution_count": 15,
   "metadata": {
    "execution": {
     "iopub.execute_input": "2024-09-09T22:35:04.341829Z",
     "iopub.status.busy": "2024-09-09T22:35:04.340058Z",
     "iopub.status.idle": "2024-09-09T22:35:05.315853Z",
     "shell.execute_reply": "2024-09-09T22:35:05.314285Z",
     "shell.execute_reply.started": "2024-09-09T22:35:04.341779Z"
    },
    "tags": []
   },
   "outputs": [
    {
     "data": {
      "text/html": [
       "<div><i>Table masked=True length=60</i>\n",
       "<table id=\"table139713814495440\" class=\"table-striped table-bordered table-condensed\">\n",
       "<thead><tr><th>file</th><th>simple</th><th>bitpix</th><th>naxis</th><th>naxis1</th><th>naxis2</th><th>bscale</th><th>bzero</th><th>date-obs</th><th>exptime</th><th>exposure</th><th>set-temp</th><th>ccd-temp</th><th>xpixsz</th><th>ypixsz</th><th>xbinning</th><th>ybinning</th><th>xorgsubf</th><th>yorgsubf</th><th>readoutm</th><th>imagetyp</th><th>focuspos</th><th>focustem</th><th>object</th><th>objctra</th><th>objctdec</th><th>objctalt</th><th>objctaz</th><th>objctha</th><th>sitelat</th><th>sitelong</th><th>jd</th><th>jd-helio</th><th>airmass</th><th>focallen</th><th>aptdia</th><th>aptarea</th><th>swcreate</th><th>sbstdver</th><th>telescop</th><th>instrume</th><th>observer</th><th>notes</th><th>unit</th><th>flipstat</th><th>swowner</th><th>filter</th></tr></thead>\n",
       "<thead><tr><th>str19</th><th>bool</th><th>int64</th><th>int64</th><th>int64</th><th>int64</th><th>float64</th><th>float64</th><th>str19</th><th>float64</th><th>float64</th><th>float64</th><th>float64</th><th>float64</th><th>float64</th><th>int64</th><th>int64</th><th>int64</th><th>int64</th><th>str10</th><th>str11</th><th>int64</th><th>float64</th><th>str10</th><th>str8</th><th>str9</th><th>str8</th><th>str8</th><th>str8</th><th>str8</th><th>str9</th><th>float64</th><th>float64</th><th>float64</th><th>float64</th><th>float64</th><th>float64</th><th>str34</th><th>str21</th><th>str30</th><th>str14</th><th>str1</th><th>str1</th><th>str3</th><th>str1</th><th>str23</th><th>object</th></tr></thead>\n",
       "<tr><td>Bias-001Bias.fit</td><td>True</td><td>16</td><td>2</td><td>1024</td><td>1024</td><td>1.0</td><td>32768.0</td><td>2024-09-04T03:36:24</td><td>0.0</td><td>0.0</td><td>-5.0</td><td>-4.8626077500000005</td><td>13.0</td><td>13.0</td><td>1</td><td>1</td><td>0</td><td>0</td><td>Monochrome</td><td>Bias Frame</td><td>8560</td><td>630.0</td><td>Bias</td><td>15 59 25</td><td>+25 55 17</td><td>31.8628</td><td>283.3599</td><td>4.4446</td><td>30 20 45</td><td>-91 04 13</td><td>2460557.6502777776</td><td>2460557.6487624766</td><td>1.8877121610835381</td><td>4115.0</td><td>508.0</td><td>200656.16730637552</td><td>MaxIm DL Version 5.24 140606 2EUKY</td><td>SBFITSEXT Version 1.0</td><td>Highland Road Park Observatory</td><td>Apogee USB/Net</td><td></td><td></td><td>adu</td><td></td><td>LSU Physics-Astronomy-1</td><td>--</td></tr>\n",
       "<tr><td>Bias-002Bias.fit</td><td>True</td><td>16</td><td>2</td><td>1024</td><td>1024</td><td>1.0</td><td>32768.0</td><td>2024-09-04T03:36:34</td><td>0.0</td><td>0.0</td><td>-5.0</td><td>-4.8626077500000005</td><td>13.0</td><td>13.0</td><td>1</td><td>1</td><td>0</td><td>0</td><td>Monochrome</td><td>Bias Frame</td><td>8560</td><td>630.0</td><td>Bias</td><td>15 59 25</td><td>+25 55 17</td><td>31.8165</td><td>283.3809</td><td>4.4482</td><td>30 20 45</td><td>-91 04 13</td><td>2460557.6503935186</td><td>2460557.64887821</td><td>1.8895566249126776</td><td>4115.0</td><td>508.0</td><td>200656.16730637552</td><td>MaxIm DL Version 5.24 140606 2EUKY</td><td>SBFITSEXT Version 1.0</td><td>Highland Road Park Observatory</td><td>Apogee USB/Net</td><td></td><td></td><td>adu</td><td></td><td>LSU Physics-Astronomy-1</td><td>--</td></tr>\n",
       "<tr><td>Bias-003Bias.fit</td><td>True</td><td>16</td><td>2</td><td>1024</td><td>1024</td><td>1.0</td><td>32768.0</td><td>2024-09-04T03:36:45</td><td>0.0</td><td>0.0</td><td>-5.0</td><td>-4.8626077500000005</td><td>13.0</td><td>13.0</td><td>1</td><td>1</td><td>0</td><td>0</td><td>Monochrome</td><td>Bias Frame</td><td>8560</td><td>630.0</td><td>Bias</td><td>15 59 25</td><td>+25 55 17</td><td>31.7888</td><td>283.3935</td><td>4.4504</td><td>30 20 45</td><td>-91 04 13</td><td>2460557.650520833</td><td>2460557.6490055164</td><td>1.8915903480000875</td><td>4115.0</td><td>508.0</td><td>200656.16730637552</td><td>MaxIm DL Version 5.24 140606 2EUKY</td><td>SBFITSEXT Version 1.0</td><td>Highland Road Park Observatory</td><td>Apogee USB/Net</td><td></td><td></td><td>adu</td><td></td><td>LSU Physics-Astronomy-1</td><td>--</td></tr>\n",
       "<tr><td>Bias-004Bias.fit</td><td>True</td><td>16</td><td>2</td><td>1024</td><td>1024</td><td>1.0</td><td>32768.0</td><td>2024-09-04T03:36:55</td><td>0.0</td><td>0.0</td><td>-5.0</td><td>-4.8626077500000005</td><td>13.0</td><td>13.0</td><td>1</td><td>1</td><td>0</td><td>0</td><td>Monochrome</td><td>Bias Frame</td><td>8560</td><td>630.0</td><td>Bias</td><td>15 59 25</td><td>+25 55 17</td><td>31.7521</td><td>283.4101</td><td>4.4534</td><td>30 20 45</td><td>-91 04 13</td><td>2460557.6506365743</td><td>2460557.64912125</td><td>1.8934435927242368</td><td>4115.0</td><td>508.0</td><td>200656.16730637552</td><td>MaxIm DL Version 5.24 140606 2EUKY</td><td>SBFITSEXT Version 1.0</td><td>Highland Road Park Observatory</td><td>Apogee USB/Net</td><td></td><td></td><td>adu</td><td></td><td>LSU Physics-Astronomy-1</td><td>--</td></tr>\n",
       "<tr><td>Bias-005Bias.fit</td><td>True</td><td>16</td><td>2</td><td>1024</td><td>1024</td><td>1.0</td><td>32768.0</td><td>2024-09-04T03:37:06</td><td>0.0</td><td>0.0</td><td>-5.0</td><td>-5.2743735</td><td>13.0</td><td>13.0</td><td>1</td><td>1</td><td>0</td><td>0</td><td>Monochrome</td><td>Bias Frame</td><td>8560</td><td>630.0</td><td>Bias</td><td>15 59 25</td><td>+25 55 17</td><td>31.7055</td><td>283.4312</td><td>4.4570</td><td>30 20 45</td><td>-91 04 13</td><td>2460557.650763889</td><td>2460557.6492485567</td><td>1.8954870060905855</td><td>4115.0</td><td>508.0</td><td>200656.16730637552</td><td>MaxIm DL Version 5.24 140606 2EUKY</td><td>SBFITSEXT Version 1.0</td><td>Highland Road Park Observatory</td><td>Apogee USB/Net</td><td></td><td></td><td>adu</td><td></td><td>LSU Physics-Astronomy-1</td><td>--</td></tr>\n",
       "<tr><td>Bias-006Bias.fit</td><td>True</td><td>16</td><td>2</td><td>1024</td><td>1024</td><td>1.0</td><td>32768.0</td><td>2024-09-04T03:37:16</td><td>0.0</td><td>0.0</td><td>-5.0</td><td>-5.2743735</td><td>13.0</td><td>13.0</td><td>1</td><td>1</td><td>0</td><td>0</td><td>Monochrome</td><td>Bias Frame</td><td>8560</td><td>630.0</td><td>Bias</td><td>15 59 25</td><td>+25 55 17</td><td>31.6714</td><td>283.4467</td><td>4.4598</td><td>30 20 45</td><td>-91 04 13</td><td>2460557.6508796294</td><td>2460557.64936429</td><td>1.8973490812597464</td><td>4115.0</td><td>508.0</td><td>200656.16730637552</td><td>MaxIm DL Version 5.24 140606 2EUKY</td><td>SBFITSEXT Version 1.0</td><td>Highland Road Park Observatory</td><td>Apogee USB/Net</td><td></td><td></td><td>adu</td><td></td><td>LSU Physics-Astronomy-1</td><td>--</td></tr>\n",
       "<tr><td>Bias-007Bias.fit</td><td>True</td><td>16</td><td>2</td><td>1024</td><td>1024</td><td>1.0</td><td>32768.0</td><td>2024-09-04T03:37:26</td><td>0.0</td><td>0.0</td><td>-5.0</td><td>-5.2743735</td><td>13.0</td><td>13.0</td><td>1</td><td>1</td><td>0</td><td>0</td><td>Monochrome</td><td>Bias Frame</td><td>8560</td><td>630.0</td><td>Bias</td><td>15 59 25</td><td>+25 55 17</td><td>31.6353</td><td>283.4631</td><td>4.4626</td><td>30 20 45</td><td>-91 04 13</td><td>2460557.6509953705</td><td>2460557.6494800234</td><td>1.8992153926895932</td><td>4115.0</td><td>508.0</td><td>200656.16730637552</td><td>MaxIm DL Version 5.24 140606 2EUKY</td><td>SBFITSEXT Version 1.0</td><td>Highland Road Park Observatory</td><td>Apogee USB/Net</td><td></td><td></td><td>adu</td><td></td><td>LSU Physics-Astronomy-1</td><td>--</td></tr>\n",
       "<tr><td>Bias-008Bias.fit</td><td>True</td><td>16</td><td>2</td><td>1024</td><td>1024</td><td>1.0</td><td>32768.0</td><td>2024-09-04T03:37:35</td><td>0.0</td><td>0.0</td><td>-5.0</td><td>-5.2743735</td><td>13.0</td><td>13.0</td><td>1</td><td>1</td><td>0</td><td>0</td><td>Monochrome</td><td>Bias Frame</td><td>8560</td><td>630.0</td><td>Bias</td><td>15 59 25</td><td>+25 55 17</td><td>31.6023</td><td>283.4781</td><td>4.4652</td><td>30 20 45</td><td>-91 04 13</td><td>2460557.651099537</td><td>2460557.6495841835</td><td>1.9008986933668544</td><td>4115.0</td><td>508.0</td><td>200656.16730637552</td><td>MaxIm DL Version 5.24 140606 2EUKY</td><td>SBFITSEXT Version 1.0</td><td>Highland Road Park Observatory</td><td>Apogee USB/Net</td><td></td><td></td><td>adu</td><td></td><td>LSU Physics-Astronomy-1</td><td>--</td></tr>\n",
       "<tr><td>Bias-009Bias.fit</td><td>True</td><td>16</td><td>2</td><td>1024</td><td>1024</td><td>1.0</td><td>32768.0</td><td>2024-09-04T03:37:46</td><td>0.0</td><td>0.0</td><td>-5.0</td><td>-5.2743735</td><td>13.0</td><td>13.0</td><td>1</td><td>1</td><td>0</td><td>0</td><td>Monochrome</td><td>Bias Frame</td><td>8560</td><td>630.0</td><td>Bias</td><td>15 59 25</td><td>+25 55 17</td><td>31.5663</td><td>283.4945</td><td>4.4681</td><td>30 20 45</td><td>-91 04 13</td><td>2460557.651226852</td><td>2460557.64971149</td><td>1.902960746774378</td><td>4115.0</td><td>508.0</td><td>200656.16730637552</td><td>MaxIm DL Version 5.24 140606 2EUKY</td><td>SBFITSEXT Version 1.0</td><td>Highland Road Park Observatory</td><td>Apogee USB/Net</td><td></td><td></td><td>adu</td><td></td><td>LSU Physics-Astronomy-1</td><td>--</td></tr>\n",
       "<tr><td>Bias-010Bias.fit</td><td>True</td><td>16</td><td>2</td><td>1024</td><td>1024</td><td>1.0</td><td>32768.0</td><td>2024-09-04T03:37:56</td><td>0.0</td><td>0.0</td><td>-5.0</td><td>-5.2743735</td><td>13.0</td><td>13.0</td><td>1</td><td>1</td><td>0</td><td>0</td><td>Monochrome</td><td>Bias Frame</td><td>8560</td><td>630.0</td><td>Bias</td><td>15 59 25</td><td>+25 55 17</td><td>31.5305</td><td>283.5107</td><td>4.4710</td><td>30 20 45</td><td>-91 04 13</td><td>2460557.6513425927</td><td>2460557.6498272233</td><td>1.9048398157732007</td><td>4115.0</td><td>508.0</td><td>200656.16730637552</td><td>MaxIm DL Version 5.24 140606 2EUKY</td><td>SBFITSEXT Version 1.0</td><td>Highland Road Park Observatory</td><td>Apogee USB/Net</td><td></td><td></td><td>adu</td><td></td><td>LSU Physics-Astronomy-1</td><td>--</td></tr>\n",
       "<tr><td>...</td><td>...</td><td>...</td><td>...</td><td>...</td><td>...</td><td>...</td><td>...</td><td>...</td><td>...</td><td>...</td><td>...</td><td>...</td><td>...</td><td>...</td><td>...</td><td>...</td><td>...</td><td>...</td><td>...</td><td>...</td><td>...</td><td>...</td><td>...</td><td>...</td><td>...</td><td>...</td><td>...</td><td>...</td><td>...</td><td>...</td><td>...</td><td>...</td><td>...</td><td>...</td><td>...</td><td>...</td><td>...</td><td>...</td><td>...</td><td>...</td><td>...</td><td>...</td><td>...</td><td>...</td><td>...</td><td>...</td></tr>\n",
       "<tr><td>TCrB-001V.fit</td><td>True</td><td>16</td><td>2</td><td>1024</td><td>1024</td><td>1.0</td><td>32768.0</td><td>2024-09-04T03:34:21</td><td>10.0</td><td>10.0</td><td>-5.0</td><td>-5.066919</td><td>13.0</td><td>13.0</td><td>1</td><td>1</td><td>0</td><td>0</td><td>Monochrome</td><td>Light Frame</td><td>8560</td><td>630.0</td><td>TCrB</td><td>15 59 25</td><td>+25 55 18</td><td>32.2531</td><td>283.1830</td><td>4.4136</td><td>30 20 45</td><td>-91 04 13</td><td>2460557.6488541667</td><td>2460557.6473968234</td><td>1.8653567238129776</td><td>4115.0</td><td>508.0</td><td>200656.16730637552</td><td>MaxIm DL Version 5.24 140606 2EUKY</td><td>SBFITSEXT Version 1.0</td><td>Highland Road Park Observatory</td><td>Apogee USB/Net</td><td></td><td></td><td>adu</td><td></td><td>LSU Physics-Astronomy-1</td><td>Bessel V</td></tr>\n",
       "<tr><td>TCrB-002B.fit</td><td>True</td><td>16</td><td>2</td><td>1024</td><td>1024</td><td>1.0</td><td>32768.0</td><td>2024-09-04T03:45:41</td><td>60.0</td><td>60.0</td><td>-5.0</td><td>-5.07634875</td><td>13.0</td><td>13.0</td><td>1</td><td>1</td><td>0</td><td>0</td><td>Monochrome</td><td>Light Frame</td><td>8560</td><td>630.0</td><td>TCrB</td><td>15 59 25</td><td>+25 54 13</td><td>29.6869</td><td>284.3304</td><td>4.6172</td><td>30 20 45</td><td>-91 04 13</td><td>2460557.6567245373</td><td>2460557.6555560445</td><td>1.9975697403607255</td><td>4115.0</td><td>508.0</td><td>200656.16730637552</td><td>MaxIm DL Version 5.24 140606 2EUKY</td><td>SBFITSEXT Version 1.0</td><td>Highland Road Park Observatory</td><td>Apogee USB/Net</td><td></td><td></td><td>adu</td><td></td><td>LSU Physics-Astronomy-1</td><td>Bessel B</td></tr>\n",
       "<tr><td>TCrB-002R.fit</td><td>True</td><td>16</td><td>2</td><td>1024</td><td>1024</td><td>1.0</td><td>32768.0</td><td>2024-09-04T03:47:39</td><td>10.0</td><td>10.0</td><td>-5.0</td><td>-4.966335</td><td>13.0</td><td>13.0</td><td>1</td><td>1</td><td>0</td><td>0</td><td>Monochrome</td><td>Light Frame</td><td>8560</td><td>630.0</td><td>TCrB</td><td>15 59 25</td><td>+25 54 13</td><td>29.4516</td><td>284.4383</td><td>4.6359</td><td>30 20 45</td><td>-91 04 13</td><td>2460557.6580902776</td><td>2460557.6566323643</td><td>2.0226623759636184</td><td>4115.0</td><td>508.0</td><td>200656.16730637552</td><td>MaxIm DL Version 5.24 140606 2EUKY</td><td>SBFITSEXT Version 1.0</td><td>Highland Road Park Observatory</td><td>Apogee USB/Net</td><td></td><td></td><td>adu</td><td></td><td>LSU Physics-Astronomy-1</td><td>Bessel R</td></tr>\n",
       "<tr><td>TCrB-002V.fit</td><td>True</td><td>16</td><td>2</td><td>1024</td><td>1024</td><td>1.0</td><td>32768.0</td><td>2024-09-04T03:46:55</td><td>30.0</td><td>30.0</td><td>-5.0</td><td>-5.079492</td><td>13.0</td><td>13.0</td><td>1</td><td>1</td><td>0</td><td>0</td><td>Monochrome</td><td>Light Frame</td><td>8560</td><td>630.0</td><td>TCrB</td><td>15 59 25</td><td>+25 54 13</td><td>29.5244</td><td>284.4048</td><td>4.6301</td><td>30 20 45</td><td>-91 04 13</td><td>2460557.6575810183</td><td>2460557.6562388707</td><td>2.013223179927211</td><td>4115.0</td><td>508.0</td><td>200656.16730637552</td><td>MaxIm DL Version 5.24 140606 2EUKY</td><td>SBFITSEXT Version 1.0</td><td>Highland Road Park Observatory</td><td>Apogee USB/Net</td><td></td><td></td><td>adu</td><td></td><td>LSU Physics-Astronomy-1</td><td>Bessel V</td></tr>\n",
       "<tr><td>TH_ngc6751-001B.fit</td><td>True</td><td>16</td><td>2</td><td>1024</td><td>1024</td><td>1.0</td><td>32768.0</td><td>2024-09-04T01:51:19</td><td>60.0</td><td>60.0</td><td>-5.0</td><td>-4.92547275</td><td>13.0</td><td>13.0</td><td>1</td><td>1</td><td>0</td><td>0</td><td>Monochrome</td><td>Light Frame</td><td>8560</td><td>629.0</td><td>TH_ngc6751</td><td>19 05 56</td><td>-05 59 33</td><td>53.2310</td><td>169.8064</td><td>-0.4076</td><td>30 20 45</td><td>-91 04 13</td><td>2460557.5773032405</td><td>2460557.5808872497</td><td>1.2479451218220114</td><td>4115.0</td><td>508.0</td><td>200656.16730637552</td><td>MaxIm DL Version 5.24 140606 2EUKY</td><td>SBFITSEXT Version 1.0</td><td>Highland Road Park Observatory</td><td>Apogee USB/Net</td><td></td><td></td><td>adu</td><td></td><td>LSU Physics-Astronomy-1</td><td>Bessel B</td></tr>\n",
       "<tr><td>TH_ngc6751-001R.fit</td><td>True</td><td>16</td><td>2</td><td>1024</td><td>1024</td><td>1.0</td><td>32768.0</td><td>2024-09-04T01:53:46</td><td>60.0</td><td>60.0</td><td>-5.0</td><td>-5.10778125</td><td>13.0</td><td>13.0</td><td>1</td><td>1</td><td>0</td><td>0</td><td>Monochrome</td><td>Light Frame</td><td>8560</td><td>629.0</td><td>TH_ngc6751</td><td>19 05 56</td><td>-05 59 33</td><td>53.3197</td><td>170.8102</td><td>-0.3669</td><td>30 20 45</td><td>-91 04 13</td><td>2460557.5790046295</td><td>2460557.582588506</td><td>1.2464389330484686</td><td>4115.0</td><td>508.0</td><td>200656.16730637552</td><td>MaxIm DL Version 5.24 140606 2EUKY</td><td>SBFITSEXT Version 1.0</td><td>Highland Road Park Observatory</td><td>Apogee USB/Net</td><td></td><td></td><td>adu</td><td></td><td>LSU Physics-Astronomy-1</td><td>Bessel R</td></tr>\n",
       "<tr><td>TH_ngc6751-001V.fit</td><td>True</td><td>16</td><td>2</td><td>1024</td><td>1024</td><td>1.0</td><td>32768.0</td><td>2024-09-04T01:52:33</td><td>60.0</td><td>60.0</td><td>-5.0</td><td>-5.004054</td><td>13.0</td><td>13.0</td><td>1</td><td>1</td><td>0</td><td>0</td><td>Monochrome</td><td>Light Frame</td><td>8560</td><td>629.0</td><td>TH_ngc6751</td><td>19 05 56</td><td>-05 59 33</td><td>53.2763</td><td>170.3056</td><td>-0.3874</td><td>30 20 45</td><td>-91 04 13</td><td>2460557.578159722</td><td>2460557.581743664</td><td>1.2471674526350458</td><td>4115.0</td><td>508.0</td><td>200656.16730637552</td><td>MaxIm DL Version 5.24 140606 2EUKY</td><td>SBFITSEXT Version 1.0</td><td>Highland Road Park Observatory</td><td>Apogee USB/Net</td><td></td><td></td><td>adu</td><td></td><td>LSU Physics-Astronomy-1</td><td>Bessel V</td></tr>\n",
       "<tr><td>ZY_NGC6818-001B.fit</td><td>True</td><td>16</td><td>2</td><td>1024</td><td>1024</td><td>1.0</td><td>32768.0</td><td>2024-09-04T02:58:53</td><td>60.0</td><td>60.0</td><td>-5.0</td><td>-5.20836525</td><td>13.0</td><td>13.0</td><td>1</td><td>1</td><td>0</td><td>0</td><td>Monochrome</td><td>Light Frame</td><td>8560</td><td>629.0</td><td>ZY_NGC6818</td><td>19 43 59</td><td>-14 09 14</td><td>45.5436</td><td>181.7866</td><td>0.0860</td><td>30 20 45</td><td>-91 04 13</td><td>2460557.624224537</td><td>2460557.6285590716</td><td>1.3988499262070544</td><td>4115.0</td><td>508.0</td><td>200656.16730637552</td><td>MaxIm DL Version 5.24 140606 2EUKY</td><td>SBFITSEXT Version 1.0</td><td>Highland Road Park Observatory</td><td>Apogee USB/Net</td><td></td><td></td><td>adu</td><td></td><td>LSU Physics-Astronomy-1</td><td>Bessel B</td></tr>\n",
       "<tr><td>ZY_NGC6818-001R.fit</td><td>True</td><td>16</td><td>2</td><td>1024</td><td>1024</td><td>1.0</td><td>32768.0</td><td>2024-09-04T03:01:20</td><td>60.0</td><td>60.0</td><td>-5.0</td><td>-5.180076000000001</td><td>13.0</td><td>13.0</td><td>1</td><td>1</td><td>0</td><td>0</td><td>Monochrome</td><td>Light Frame</td><td>8560</td><td>630.0</td><td>ZY_NGC6818</td><td>19 43 58</td><td>-14 09 14</td><td>45.5228</td><td>182.6474</td><td>0.1275</td><td>30 20 45</td><td>-91 04 13</td><td>2460557.625925926</td><td>2460557.6302600396</td><td>1.3992639567371383</td><td>4115.0</td><td>508.0</td><td>200656.16730637552</td><td>MaxIm DL Version 5.24 140606 2EUKY</td><td>SBFITSEXT Version 1.0</td><td>Highland Road Park Observatory</td><td>Apogee USB/Net</td><td></td><td></td><td>adu</td><td></td><td>LSU Physics-Astronomy-1</td><td>Bessel R</td></tr>\n",
       "<tr><td>ZY_NGC6818-001V.fit</td><td>True</td><td>16</td><td>2</td><td>1024</td><td>1024</td><td>1.0</td><td>32768.0</td><td>2024-09-04T03:00:07</td><td>60.0</td><td>60.0</td><td>-5.0</td><td>-5.079492</td><td>13.0</td><td>13.0</td><td>1</td><td>1</td><td>0</td><td>0</td><td>Monochrome</td><td>Light Frame</td><td>8560</td><td>629.0</td><td>ZY_NGC6818</td><td>19 43 59</td><td>-14 09 14</td><td>45.5342</td><td>182.2198</td><td>0.1069</td><td>30 20 45</td><td>-91 04 13</td><td>2460557.6250810185</td><td>2460557.6294154916</td><td>1.3990330723490583</td><td>4115.0</td><td>508.0</td><td>200656.16730637552</td><td>MaxIm DL Version 5.24 140606 2EUKY</td><td>SBFITSEXT Version 1.0</td><td>Highland Road Park Observatory</td><td>Apogee USB/Net</td><td></td><td></td><td>adu</td><td></td><td>LSU Physics-Astronomy-1</td><td>Bessel V</td></tr>\n",
       "</table></div>"
      ],
      "text/plain": [
       "<Table masked=True length=60>\n",
       "        file        simple bitpix ... flipstat         swowner          filter \n",
       "       str19         bool  int64  ...   str1            str23           object \n",
       "------------------- ------ ------ ... -------- ----------------------- --------\n",
       "   Bias-001Bias.fit   True     16 ...          LSU Physics-Astronomy-1       --\n",
       "   Bias-002Bias.fit   True     16 ...          LSU Physics-Astronomy-1       --\n",
       "   Bias-003Bias.fit   True     16 ...          LSU Physics-Astronomy-1       --\n",
       "   Bias-004Bias.fit   True     16 ...          LSU Physics-Astronomy-1       --\n",
       "   Bias-005Bias.fit   True     16 ...          LSU Physics-Astronomy-1       --\n",
       "   Bias-006Bias.fit   True     16 ...          LSU Physics-Astronomy-1       --\n",
       "   Bias-007Bias.fit   True     16 ...          LSU Physics-Astronomy-1       --\n",
       "   Bias-008Bias.fit   True     16 ...          LSU Physics-Astronomy-1       --\n",
       "   Bias-009Bias.fit   True     16 ...          LSU Physics-Astronomy-1       --\n",
       "   Bias-010Bias.fit   True     16 ...          LSU Physics-Astronomy-1       --\n",
       "                ...    ...    ... ...      ...                     ...      ...\n",
       "      TCrB-001V.fit   True     16 ...          LSU Physics-Astronomy-1 Bessel V\n",
       "      TCrB-002B.fit   True     16 ...          LSU Physics-Astronomy-1 Bessel B\n",
       "      TCrB-002R.fit   True     16 ...          LSU Physics-Astronomy-1 Bessel R\n",
       "      TCrB-002V.fit   True     16 ...          LSU Physics-Astronomy-1 Bessel V\n",
       "TH_ngc6751-001B.fit   True     16 ...          LSU Physics-Astronomy-1 Bessel B\n",
       "TH_ngc6751-001R.fit   True     16 ...          LSU Physics-Astronomy-1 Bessel R\n",
       "TH_ngc6751-001V.fit   True     16 ...          LSU Physics-Astronomy-1 Bessel V\n",
       "ZY_NGC6818-001B.fit   True     16 ...          LSU Physics-Astronomy-1 Bessel B\n",
       "ZY_NGC6818-001R.fit   True     16 ...          LSU Physics-Astronomy-1 Bessel R\n",
       "ZY_NGC6818-001V.fit   True     16 ...          LSU Physics-Astronomy-1 Bessel V"
      ]
     },
     "execution_count": 15,
     "metadata": {},
     "output_type": "execute_result"
    }
   ],
   "source": [
    "images = ccdp.ImageFileCollection(path)\n",
    "images.summary"
   ]
  },
  {
   "cell_type": "markdown",
   "metadata": {},
   "source": [
    "## 3. Reduction Preparation: Make master bias\n",
    "\n",
    "Use `images.filter`\\* to get only the images with `imagetyp=\"Bias Frame\"`.\n",
    "\n",
    "Create a master bias frame with *ccdp.combine* on your list of bias frames. Use the median method and specify that `unit=\"adu\"`. I will refer to this master bias frame as `mbias`\n",
    "\n",
    "Save the master bias with `mbias.write` to `\"reduced/mbias.fit\"`, add the keyword argument  `overwrite=True` to overwrite the file in case we rerun this entire script on this same directory multiple times.\n",
    "\n",
    "```\n",
    "biases = images.filter( ... )\n",
    "mbias = ccdp.combine(biases, ... )\n",
    "mbias.write( ...)\n",
    "```\n",
    "\n",
    "\\*Note the `.filter` method returns an `ImageFileCollection` object, the `.files_filtered` method returns a list of filenames. You can iterate over what is returned by `.filter`, but if you need to iterate over an existing `ImageFileCollection` object without filtering, you can do that with the `.ccds` method, that provides a `CCDData` object to the loop. "
   ]
  },
  {
   "cell_type": "code",
   "execution_count": 22,
   "metadata": {
    "execution": {
     "iopub.execute_input": "2024-09-09T23:05:38.326511Z",
     "iopub.status.busy": "2024-09-09T23:05:38.325911Z",
     "iopub.status.idle": "2024-09-09T23:05:44.177551Z",
     "shell.execute_reply": "2024-09-09T23:05:44.176103Z",
     "shell.execute_reply.started": "2024-09-09T23:05:38.326447Z"
    },
    "tags": []
   },
   "outputs": [],
   "source": [
    "# Filter images to get only the bias frames\n",
    "biases = images.filter(imagetyp=\"Bias Frame\")\n",
    "\n",
    "# Create a list of CCDData objects from the filtered bias frames\n",
    "bias_frames = [ccd for ccd in biases.ccds(ccd_kwargs={'unit': u.adu})]\n",
    "\n",
    "# Combine the bias frames using the median method\n",
    "mbias = ccdp.combine(bias_frames, method='median')\n",
    "\n",
    "# Save the master bias frame, overwriting if necessary\n",
    "mbias.write(\"reduced/mbias.fit\", overwrite=True)"
   ]
  },
  {
   "cell_type": "markdown",
   "metadata": {
    "tags": []
   },
   "source": [
    "## 4. Reduction Preparation: Make master dark\n",
    "\n",
    "Use `images.files_filtered` to get only the images with `imagetyp=\"Dark Frame\"`. I will refer to this collection as `darks`.\n",
    "\n",
    "Create two empty lists, one to store the reduced darks and one to store the exposure time of each frame. I will refer to the latter as `exptimes`\n",
    "\n",
    "Use a for loop to iterate over `darks.ccds` . Subtract the `mbias` from each image with `ccdp.subtract_bias` and append it to the first empty list, append to the second empty list the exposure time from the header.\n",
    "\n",
    "```\n",
    "exptimes = []\n",
    "red_darks = []\n",
    "darks = filtered collection\n",
    "\n",
    "\n",
    "for ccd in darks.ccds():\n",
    "    ccd = bias subtracted dark\n",
    "    Append the cleaned ccd to the red_darks list\n",
    "    Append ccd.header[\"exptime\"] to the exposure time list.\n",
    "```\n",
    "\n",
    "After this, convert your exposure times list to a numpy array. \n",
    "\n",
    "Create master dark frame with `ccdp.combine`. Use the median method, set `scale=1/exptimes`, and set `unit=\"adu\"`. I will refer to this as `mdark`\n",
    "\n",
    "Set the `\"exposure\"` and `\"exptime\"` header keywords in `mdark.header` to 1.\n",
    "\n",
    "Save `mdark` in the reduced data directory.\n",
    "\n",
    "```\n",
    "exptimes = np.array(exptimes)\n",
    "mdark = ccdp.combine (red_darks, ...)\n",
    "mdark.header[\"exptime\"] = 1\n",
    "mdark.header[\"exposure\"] = 1\n",
    "\n",
    "mdark.write(...)\n",
    "\n",
    "```"
   ]
  },
  {
   "cell_type": "code",
   "execution_count": 31,
   "metadata": {
    "execution": {
     "iopub.execute_input": "2024-09-10T02:15:45.948671Z",
     "iopub.status.busy": "2024-09-10T02:15:45.948154Z",
     "iopub.status.idle": "2024-09-10T02:15:49.189061Z",
     "shell.execute_reply": "2024-09-10T02:15:49.187617Z",
     "shell.execute_reply.started": "2024-09-10T02:15:45.948624Z"
    },
    "tags": []
   },
   "outputs": [],
   "source": [
    "# Filter images to get only the dark frames\n",
    "darks = images.filter(imagetyp=\"Dark Frame\")\n",
    "\n",
    "# Initialize the lists for reduced darks and exposure times\n",
    "exptimes = []\n",
    "red_darks = []\n",
    "\n",
    "# Iterate over each dark frame, subtracting the master bias and storing results\n",
    "#for ccd in darks.ccds(ccd_kwargs={'unit': u.adu}):\n",
    "\n",
    "for ccd in darks.ccds(ccd_kwargs={'unit':u.adu}):    \n",
    "    # Subtract the master bias from each dark frame\n",
    "    #cleaned_dark = ccdp.subtract_bias(ccd, mbias)\n",
    "    cleaned_dark = ccdp.subtract_bias(ccd, mbias)\n",
    "    \n",
    "    # Append the cleaned dark frame to the list\n",
    "    red_darks.append(cleaned_dark)\n",
    "    \n",
    "    # Append the exposure time to the exptimes list\n",
    "    exptimes.append(cleaned_dark.header[\"exptime\"])\n",
    "    \n",
    "# Convert the exposure times list to a numpy array\n",
    "exptimes = np.array(exptimes)\n",
    "\n",
    "# Create master dark frame with `ccdp.combine`. Use the median method, set `scale=1/exptimes`, and set `unit=\"adu\"`. I will refer to this as `mdark` \n",
    "mdark = ccdp.combine(red_darks, method='median', scale=1/exptimes, unit=u.adu) #unit=u.adu\n",
    "\n",
    "# Set the `\"exposure\"` and `\"exptime\"` header keywords in `mdark.header` to 1\n",
    "mdark.header[\"exptime\"] = 1\n",
    "mdark.header[\"exposure\"] = 1\n",
    "\n",
    "# Ensure the 'reduced' directory exists\n",
    "output_directory = \"reduced\"\n",
    "if not os.path.exists(output_directory):\n",
    "    os.makedirs(output_directory)\n",
    "    \n",
    "# Save `mdark` in the reduced data directory\n",
    "mdark.write(os.path.join(output_directory, \"mdark.fit\"), overwrite=True)\n",
    "#mdark.write(\"reduced/mdark.fit\", overwrite=True)"
   ]
  },
  {
   "cell_type": "markdown",
   "metadata": {
    "tags": []
   },
   "source": [
    "## 5. Reduction Preparation: Make the master flat frames\n",
    "\n",
    "Flat frames have the added complication that they are specific to each filter. Using nested for loops, we can save from writing the same code multiple times.\n",
    "\n",
    "- Define a list of filter names as strings\n",
    "- Create an empty dictionary to store our master flats for later.\n",
    "- Iterate over the filters in the outer loop.\n",
    "- Use `images.files_filtered` with `imagetyp=\"Flat Field\"` as well as`filter=filt`.\n",
    "- Create empty list to store reduced flats.\n",
    "- Iterate over the flat ccds. Bias subtract, dark subtract with `scale=True, exposure_unit=u.s, exposure_time='exptime'`.\n",
    "- Append reduced flat to `red_flats`.\n",
    "- Use `ccdp.combine` on the reduced flats. \n",
    "- Write out the flat to the reduced directory with the filename. Below I present one way to make a unique filename for each filter's flat. There are a variety of ways you can do this though.\n",
    "- Add a memory copy of the mflat to the dictionary with the key set to the filter name.\n",
    "\n",
    "```\n",
    "filters = [\"Bessel B\", \"Bessel V\", \"Bessel R\"]\n",
    "mflats = {}\n",
    "\n",
    "for filt in filters:\n",
    "    flats = files.filter( ... )\n",
    "    red_flats = []\n",
    "    \n",
    "    for flat in flats.ccds():\n",
    "        flat = bias subtract\n",
    "        flat = dark subtract, scale=True, exposure_unit=u.s\n",
    "        Append flat to red_flats\n",
    "    \n",
    "    filt_string = filter.replace(\" \", \"_\")\n",
    "    fname = filt_string+\"flat.fit\"\n",
    "    \n",
    "    mflat = ccdp.combine(red_flats, ...)\n",
    "    mflat.write(...)\n",
    "    mflats[filt] = mflat.copy()\n",
    "```"
   ]
  },
  {
   "cell_type": "code",
   "execution_count": null,
   "metadata": {},
   "outputs": [],
   "source": []
  },
  {
   "cell_type": "markdown",
   "metadata": {},
   "source": [
    "## 6. Reduce the data\n",
    "\n",
    "- Grab a list of all of the `imagetyp=\"Light Frame\"`.\n",
    "\n",
    "- Iterate over the Light Frame ccds.\n",
    "\n",
    "- Use the all-in-one `ccdp.ccd_process` on the ccd with `master_bias=mbias, dark_frame=mdark, master_flat=mflats[ccd.header[\"Filter\"]] ,dark_scale=True, exposure_unit=u.s, exposure_key='exptime'`\n",
    "\n",
    "- Write out the reduced ccd to the reduced data directory\n",
    "```\n",
    "lights = ccdp.filter( ... )\n",
    "\n",
    "for light in lights.ccds():\n",
    "    light = ccdp.ccd_process( ...)\n",
    "    light.write( ...)\n",
    "```"
   ]
  },
  {
   "cell_type": "code",
   "execution_count": null,
   "metadata": {},
   "outputs": [],
   "source": []
  },
  {
   "cell_type": "code",
   "execution_count": null,
   "metadata": {},
   "outputs": [],
   "source": []
  }
 ],
 "metadata": {
  "kernelspec": {
   "display_name": "Python 3.8 (py38)",
   "language": "python",
   "name": "py38"
  },
  "language_info": {
   "codemirror_mode": {
    "name": "ipython",
    "version": 3
   },
   "file_extension": ".py",
   "mimetype": "text/x-python",
   "name": "python",
   "nbconvert_exporter": "python",
   "pygments_lexer": "ipython3",
   "version": "3.8.5"
  }
 },
 "nbformat": 4,
 "nbformat_minor": 4
}
