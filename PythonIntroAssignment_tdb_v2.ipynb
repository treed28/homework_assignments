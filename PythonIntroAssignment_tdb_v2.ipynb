{
 "cells": [
  {
   "cell_type": "markdown",
   "metadata": {},
   "source": [
    "# Assignment 1: Python coding practice\n",
    "\n",
    "You do not need to master python coding to do well in this course, but you do need to learn enough to get by. This assignment aims to reinforce some of the key aspects of the python language that you will use regularly throughout the course.\n",
    "\n",
    "Before trying to complete the assignment, work through each of the sections listed under \"Learn the Basics\" at [learnpython.org](https://www.learnpython.org/). If you would find a video lecture helpful, the LSU's High Performance Computing center offers training in various aspects of computing, including python. You can find a recording of their \"Introduction to Python\" course on their [training archive](http://www.hpc.lsu.edu/training/archive/tutorials.php), as well as a link to interactive \"slides\" that can be used in a similar way to learnpython.org.\n",
    "\n",
    "## Part A: Variables, printing, and control structures\n",
    "\n",
    "1. Write a piece of code to solve the following quadratic equation for $x$:\n",
    "$$\n",
    "2.5 x^2 - 17.5 x - 20.0 = 0\n",
    "$$\n",
    "using the quadratic formula. Use **variables** to store the coefficients, and **print** the solution(s) as part of a single sentence using **string formatting**. Use **comments** to explain what you are doing. You can find basic mathematical functions in the `math` or `numpy` **modules**.\n",
    "Once you are done, run the code, either by pressing the \"play\" button above, or typing Shift+Enter."
   ]
  },
  {
   "cell_type": "code",
   "execution_count": 9,
   "metadata": {
    "execution": {
     "iopub.execute_input": "2024-09-01T00:42:08.924872Z",
     "iopub.status.busy": "2024-09-01T00:42:08.923423Z",
     "iopub.status.idle": "2024-09-01T00:42:08.936881Z",
     "shell.execute_reply": "2024-09-01T00:42:08.935386Z",
     "shell.execute_reply.started": "2024-09-01T00:42:08.924825Z"
    },
    "tags": []
   },
   "outputs": [
    {
     "name": "stdout",
     "output_type": "stream",
     "text": [
      "The solutions are (-1+0j) and (8+0j)\n"
     ]
    }
   ],
   "source": [
    "# Assignment 1: Python coding practice\n",
    "# Purpose: Write a piece of code to solve the following quadratic equation for x\n",
    "\n",
    "import cmath\n",
    "\n",
    "# These variables are the coefficients of the quadratic equation: ax^2 + bx + c = 0\n",
    "a = float(2.5)\n",
    "b = float(-17.5)\n",
    "c = float(-20.0)\n",
    "\n",
    "# disc represents the discriminant in the quadratic solution\n",
    "disc = (b**2) - (4*a*c)\n",
    "\n",
    "# This represents the two solutions for the quadratic formula\n",
    "solution1 = (-b-cmath.sqrt(disc))/(2*a)\n",
    "solution2 = (-b+cmath.sqrt(disc))/(2*a)\n",
    "\n",
    "print('The solutions are {0} and {1}'.format(solution1, solution2))\n"
   ]
  },
  {
   "cell_type": "code",
   "execution_count": 10,
   "metadata": {
    "execution": {
     "iopub.execute_input": "2024-09-01T00:43:08.935897Z",
     "iopub.status.busy": "2024-09-01T00:43:08.935334Z",
     "iopub.status.idle": "2024-09-01T00:43:08.950725Z",
     "shell.execute_reply": "2024-09-01T00:43:08.949073Z",
     "shell.execute_reply.started": "2024-09-01T00:43:08.935849Z"
    },
    "tags": []
   },
   "outputs": [
    {
     "name": "stdout",
     "output_type": "stream",
     "text": [
      "The solutions are -1.0 and 8.0\n"
     ]
    }
   ],
   "source": [
    "# Delete this Cell\n",
    "\n",
    "import numpy\n",
    "\n",
    "# These variables are the coefficients of the quadratic equation: ax^2 + bx + c = 0\n",
    "a = float(2.5)\n",
    "b = float(-17.5)\n",
    "c = float(-20.0)\n",
    "\n",
    "# disc represents the discriminant in the quadratic solution\n",
    "disc = (b**2) - (4*a*c)\n",
    "\n",
    "# This represents the two solutions for the quadratic formula\n",
    "solution1 = (-b-numpy.sqrt(disc))/(2*a)\n",
    "solution2 = (-b+numpy.sqrt(disc))/(2*a)\n",
    "\n",
    "print('The solutions are {0} and {1}'.format(solution1, solution2))\n",
    "\n"
   ]
  },
  {
   "cell_type": "code",
   "execution_count": 11,
   "metadata": {
    "execution": {
     "iopub.execute_input": "2024-09-01T00:44:00.924612Z",
     "iopub.status.busy": "2024-09-01T00:44:00.924128Z",
     "iopub.status.idle": "2024-09-01T00:44:27.925221Z",
     "shell.execute_reply": "2024-09-01T00:44:27.923929Z",
     "shell.execute_reply.started": "2024-09-01T00:44:00.924536Z"
    },
    "tags": []
   },
   "outputs": [
    {
     "name": "stdin",
     "output_type": "stream",
     "text": [
      "Please enter a:  2.5\n",
      "Please enter b:  17.5\n",
      "Please enter c:  20\n"
     ]
    },
    {
     "name": "stdout",
     "output_type": "stream",
     "text": [
      "The solutions are (-5.56155281280883+0j) and (-1.4384471871911697+0j)\n"
     ]
    }
   ],
   "source": [
    "# Assignment 1: Python coding practice\n",
    "# Purpose: Write a piece of code to solve the following quadratic equation for x\n",
    "\n",
    "import cmath\n",
    "\n",
    "# These variables are the coefficients of the quadratic equation: ax^2 + bx + c = 0\n",
    "# This code will prompt for keyboard entry of the coefficients a, b, & c.\n",
    "\n",
    "a = float(input('Please enter a: '))\n",
    "b = float(input('Please enter b: '))\n",
    "c = float(input('Please enter c: '))\n",
    "\n",
    "# disc represents the discriminant in the quadratic solution\n",
    "disc = (b**2) - (4*a*c)\n",
    "\n",
    "# This represents the two solutions for the quadratic formula\n",
    "solution1 = (-b-cmath.sqrt(disc))/(2*a)\n",
    "solution2 = (-b+cmath.sqrt(disc))/(2*a)\n",
    "\n",
    "print('The solutions are {0} and {1}'.format(solution1, solution2))\n",
    "\n"
   ]
  },
  {
   "cell_type": "markdown",
   "metadata": {},
   "source": [
    "2. Try adjusting one or more of the coefficients and run the cell again. Make some notes about what you find in the following markup cell. E.g., First try making some small adjustments to the coefficient values, then try picking coefficients that will give you a complex solution (i.e., where $b^2-4ac<0$)."
   ]
  },
  {
   "cell_type": "markdown",
   "metadata": {},
   "source": [
    "ANSWER \n",
    "1. Changed variable b and c to positive numbers. Both solutions were negative without an imaginary component.\n",
    "\n",
    "2. For the solutions to be complex, the discriminant needs to be negative. 4ac needs to be positive (both a and c is negative or a and c is positive) and greater than b^2.  "
   ]
  },
  {
   "cell_type": "code",
   "execution_count": 12,
   "metadata": {
    "execution": {
     "iopub.execute_input": "2024-09-01T00:45:27.926396Z",
     "iopub.status.busy": "2024-09-01T00:45:27.925929Z",
     "iopub.status.idle": "2024-09-01T00:45:27.937848Z",
     "shell.execute_reply": "2024-09-01T00:45:27.936406Z",
     "shell.execute_reply.started": "2024-09-01T00:45:27.926353Z"
    },
    "tags": []
   },
   "outputs": [
    {
     "name": "stdout",
     "output_type": "stream",
     "text": [
      "The solutions are (1.5-2.3979157616563596j) and (1.5+2.3979157616563596j)\n"
     ]
    }
   ],
   "source": [
    "# Assignment 1: Python coding practice\n",
    "# Purpose: Write a piece of code to solve the following quadratic equation for x\n",
    "\n",
    "import cmath\n",
    "\n",
    "# These variables are the coefficients of the quadratic equation: ax^2 + bx + c = 0\n",
    "a = float(2.5)\n",
    "b = float(-7.5)\n",
    "c = float(20.0)\n",
    "\n",
    "# disc represents the discriminant in the quadratic solution\n",
    "disc = (b**2) - (4*a*c)\n",
    "\n",
    "# This represents the two solutions for the quadratic formula\n",
    "solution1 = (-b-cmath.sqrt(disc))/(2*a)\n",
    "solution2 = (-b+cmath.sqrt(disc))/(2*a)\n",
    "\n",
    "print('The solutions are {0} and {1}'.format(solution1, solution2))\n",
    "\n"
   ]
  },
  {
   "cell_type": "code",
   "execution_count": 14,
   "metadata": {
    "execution": {
     "iopub.execute_input": "2024-09-01T00:47:10.974497Z",
     "iopub.status.busy": "2024-09-01T00:47:10.974020Z",
     "iopub.status.idle": "2024-09-01T00:47:10.985336Z",
     "shell.execute_reply": "2024-09-01T00:47:10.984207Z",
     "shell.execute_reply.started": "2024-09-01T00:47:10.974451Z"
    },
    "tags": []
   },
   "outputs": [
    {
     "name": "stdout",
     "output_type": "stream",
     "text": [
      "The solutions are (1.5+2.3979157616563596j) and (1.5-2.3979157616563596j)\n"
     ]
    }
   ],
   "source": [
    "# Assignment 1: Python coding practice\n",
    "# Purpose: Write a piece of code to solve the following quadratic equation for x\n",
    "\n",
    "import cmath\n",
    "\n",
    "# These variables are the coefficients of the quadratic equation: ax^2 + bx + c = 0\n",
    "a = float(-2.5)\n",
    "b = float(7.5)\n",
    "c = float(-20.0)\n",
    "\n",
    "# disc represents the discriminant in the quadratic solution\n",
    "disc = (b**2) - (4*a*c)\n",
    "\n",
    "# This represents the two solutions for the quadratic formula\n",
    "solution1 = (-b-cmath.sqrt(disc))/(2*a)\n",
    "solution2 = (-b+cmath.sqrt(disc))/(2*a)\n",
    "\n",
    "print('The solutions are {0} and {1}'.format(solution1, solution2))\n",
    "\n"
   ]
  },
  {
   "cell_type": "markdown",
   "metadata": {},
   "source": [
    "3. Reset the coefficients to their original values and rerun the cell above. Below, write a **function** to evaluate a general quadratic equation ($y=ax^2+bx+c$), and use this function to check that your solution to the quadratic with the original coefficients is correct. The function should have four arguments: x and the three coefficients. Use an `if` **conditional statement** to print a success or failure message, depending on the result. Again, use **comments** throughout."
   ]
  },
  {
   "cell_type": "code",
   "execution_count": 1,
   "metadata": {
    "execution": {
     "iopub.execute_input": "2024-09-01T01:32:26.983058Z",
     "iopub.status.busy": "2024-09-01T01:32:26.982644Z",
     "iopub.status.idle": "2024-09-01T01:32:27.001543Z",
     "shell.execute_reply": "2024-09-01T01:32:27.000128Z",
     "shell.execute_reply.started": "2024-09-01T01:32:26.983015Z"
    },
    "tags": []
   },
   "outputs": [
    {
     "name": "stdout",
     "output_type": "stream",
     "text": [
      "Real and Different Roots\n",
      "The solutions are 8.0 and -1.0\n"
     ]
    }
   ],
   "source": [
    "# Purpose: Write a function to evaluate a general quadratic equation $y=ax^2+bx+c$. \n",
    "# Use this function to check that your solution to the quadratic with the original coefficients is correct.\n",
    "\n",
    "\n",
    "import math\n",
    "\n",
    "def solve_quadratic(a, b, c):\n",
    "    disc = (b**2) - (4*a*c)\n",
    "    sqrtval = math.sqrt(abs(disc))\n",
    "    \n",
    "    x1 = (-b + sqrtval)/(2*a)\n",
    "    x2 = (-b - sqrtval)/(2*a)\n",
    "    \n",
    "    # checking condition for discriminant\n",
    "    if disc > 0:\n",
    "        print(\"Real and Different Roots\")\n",
    "        print('The solutions are {0} and {1}'.format(x1, x2))\n",
    "        \n",
    "    elif disc == 0:\n",
    "        print(\"Real and Same Roots\")\n",
    "        print('The solutions are {0} and {1}'.format(x1, x2))\n",
    "        #print(-b/(2 * a))\n",
    "        \n",
    "    else:\n",
    "        print(\"Complex Roots\")\n",
    "        print('The solutions are {0} and {1}'.format(x1, x2))\n",
    "        #print(-b/(2 * a), \" + i \", sqrtval/(2*a))\n",
    "        #print(-b/(2 * a), \" - i\", sqrtval/(2*a))\n",
    "        \n",
    "# Main program\n",
    "\n",
    "# These variables are the coefficients of the quadratic equation: ax^2 + bx + c = 0\n",
    "a = float(2.5)\n",
    "b = float(-17.5)\n",
    "c = float(-20.0)\n",
    "\n",
    "if a == 0:\n",
    "    print(\"This is not a quadratic equation. Enter appropriate coefficients.\")\n",
    "else:\n",
    "    solve_quadratic(a, b, c)\n",
    "    \n"
   ]
  },
  {
   "cell_type": "code",
   "execution_count": 1,
   "metadata": {
    "execution": {
     "iopub.execute_input": "2024-09-01T01:33:25.172081Z",
     "iopub.status.busy": "2024-09-01T01:33:25.171710Z",
     "iopub.status.idle": "2024-09-01T01:33:25.189130Z",
     "shell.execute_reply": "2024-09-01T01:33:25.187321Z",
     "shell.execute_reply.started": "2024-09-01T01:33:25.172038Z"
    }
   },
   "outputs": [
    {
     "name": "stdout",
     "output_type": "stream",
     "text": [
      "Real and Different Roots\n",
      "The solutions are -1.4384471871911697 and -5.56155281280883\n"
     ]
    }
   ],
   "source": [
    "# Purpose: Write a function to evaluate a general quadratic equation $y=ax^2+bx+c$. \n",
    "# Use this function to check that your solution to the quadratic with the original coefficients is correct.\n",
    "\n",
    "\n",
    "import math\n",
    "\n",
    "def solve_quadratic(a, b, c):\n",
    "    disc = (b**2) - (4*a*c)\n",
    "    sqrtval = math.sqrt(abs(disc))\n",
    "    \n",
    "    x1 = (-b + sqrtval)/(2*a)\n",
    "    x2 = (-b - sqrtval)/(2*a)\n",
    "    \n",
    "    # checking condition for discriminant\n",
    "    if disc > 0:\n",
    "        print(\"Real and Different Roots\")\n",
    "        print('The solutions are {0} and {1}'.format(x1, x2))\n",
    "        \n",
    "    elif disc == 0:\n",
    "        print(\"Real and Same Roots\")\n",
    "        print('The solutions are {0} and {1}'.format(x1, x2))\n",
    "        #print(-b/(2 * a))\n",
    "        \n",
    "    else:\n",
    "        print(\"Complex Roots\")\n",
    "        print('The solutions are {0} and {1}'.format(x1, x2))\n",
    "        #print(-b/(2 * a), \" + i \", sqrtval/(2*a))\n",
    "        #print(-b/(2 * a), \" - i\", sqrtval/(2*a))\n",
    "        \n",
    "# Main program\n",
    "\n",
    "# These variables are the coefficients of the quadratic equation: ax^2 + bx + c = 0\n",
    "a = float(2.5)\n",
    "b = float(17.5)\n",
    "c = float(20.0)\n",
    "\n",
    "if a == 0:\n",
    "    print(\"This is not a quadratic equation. Enter appropriate coefficients.\")\n",
    "else:\n",
    "    solve_quadratic(a, b, c)\n",
    "    \n"
   ]
  },
  {
   "cell_type": "code",
   "execution_count": 2,
   "metadata": {
    "execution": {
     "iopub.execute_input": "2024-09-01T01:46:06.827089Z",
     "iopub.status.busy": "2024-09-01T01:46:06.826615Z",
     "iopub.status.idle": "2024-09-01T01:46:06.844439Z",
     "shell.execute_reply": "2024-09-01T01:46:06.842539Z",
     "shell.execute_reply.started": "2024-09-01T01:46:06.827045Z"
    },
    "tags": []
   },
   "outputs": [
    {
     "name": "stdout",
     "output_type": "stream",
     "text": [
      "Real and Same Roots\n",
      "The solution is -1.0\n"
     ]
    }
   ],
   "source": [
    "# Purpose: Write a function to evaluate a general quadratic equation $y=ax^2+bx+c$. \n",
    "# Use this function to check that your solution to the quadratic with the original coefficients is correct.\n",
    "\n",
    "\n",
    "import math\n",
    "\n",
    "def solve_quadratic(a, b, c):\n",
    "    disc = (b**2) - (4*a*c)\n",
    "    sqrtval = math.sqrt(abs(disc))\n",
    "    \n",
    "    x1 = (-b + sqrtval)/(2*a)\n",
    "    x2 = (-b - sqrtval)/(2*a)\n",
    "    \n",
    "    # checking condition for discriminant\n",
    "    if disc > 0:\n",
    "        print(\"Real and Different Roots\")\n",
    "        print('The solutions are {0} and {1}'.format(x1, x2))\n",
    "        \n",
    "    elif disc == 0:\n",
    "        x1 = x2\n",
    "        x = x1\n",
    "        print(\"Real and Same Roots\")\n",
    "        print('The solution is {0}'.format(x))\n",
    "        #print(-b/(2 * a))\n",
    "        \n",
    "    else:\n",
    "        print(\"Complex Roots\")\n",
    "        print('The solutions are {0} and {1}'.format(x1, x2))\n",
    "        #print(-b/(2 * a), \" + i \", sqrtval/(2*a))\n",
    "        #print(-b/(2 * a), \" - i\", sqrtval/(2*a))\n",
    "        \n",
    "# Main program\n",
    "\n",
    "# These variables are the coefficients of the quadratic equation: ax^2 + bx + c = 0\n",
    "a = float(1)\n",
    "b = float(2)\n",
    "c = float(1)\n",
    "\n",
    "if a == 0:\n",
    "    print(\"This is not a quadratic equation. Enter appropriate coefficients.\")\n",
    "else:\n",
    "    solve_quadratic(a, b, c)\n",
    "    \n"
   ]
  },
  {
   "cell_type": "code",
   "execution_count": 2,
   "metadata": {
    "execution": {
     "iopub.execute_input": "2024-09-02T02:47:46.928317Z",
     "iopub.status.busy": "2024-09-02T02:47:46.927724Z",
     "iopub.status.idle": "2024-09-02T02:47:46.949207Z",
     "shell.execute_reply": "2024-09-02T02:47:46.947688Z",
     "shell.execute_reply.started": "2024-09-02T02:47:46.928236Z"
    },
    "tags": []
   },
   "outputs": [
    {
     "name": "stdout",
     "output_type": "stream",
     "text": [
      "Complex Roots\n",
      "The solutions are \n",
      "1.5 + 2.3979157616563596 i\n",
      "1.5 - 2.3979157616563596 i\n"
     ]
    }
   ],
   "source": [
    "# Purpose: Write a function to evaluate a general quadratic equation $y=ax^2+bx+c$. \n",
    "# Use this function to check that your solution to the quadratic with the original coefficients is correct.\n",
    "\n",
    "\n",
    "import math\n",
    "\n",
    "def solve_quadratic(a, b, c):\n",
    "    disc = (b**2) - (4*a*c)\n",
    "    sqrtval = math.sqrt(abs(disc))\n",
    "    \n",
    "    x = -b/(2*a)\n",
    "    \n",
    "    # checking condition for discriminant\n",
    "    if disc > 0:\n",
    "        print(\"Real and Different Roots\")\n",
    "        x1 = x + (sqrtval/(2*a))\n",
    "        x2 = x - (sqrtval/(2*a))\n",
    "        print('The solutions are {0} and {1}'.format(x1, x2))\n",
    "        \n",
    "    elif disc == 0:\n",
    "        print(\"Real and Same Roots\")\n",
    "        print('The solution is {0}'.format(x))\n",
    "        \n",
    "    else:\n",
    "        print(\"Complex Roots\")\n",
    "        #x1 = x + (sqrtval/(2*a))\n",
    "        #x2 = x - (sqrtval/(2*a))\n",
    "        print('The solutions are ')\n",
    "        print(x, \"+\", abs(sqrtval/(2*a)),\"i\")\n",
    "        print(x, \"-\", abs(sqrtval/(2*a)),\"i\")\n",
    "        #print('The solutions are {0} and {1}'.format(x1, x2))\n",
    "        \n",
    "        \n",
    "# Main program\n",
    "\n",
    "# These variables are the coefficients of the quadratic equation: ax^2 + bx + c = 0\n",
    "a = float(-2.5)\n",
    "b = float(7.5)\n",
    "c = float(-20.0)\n",
    "\n",
    "if a == 0:\n",
    "    print(\"This is not a quadratic equation. Enter appropriate coefficients.\")\n",
    "else:\n",
    "    solve_quadratic(a, b, c)\n",
    "    \n"
   ]
  },
  {
   "cell_type": "code",
   "execution_count": 1,
   "metadata": {
    "execution": {
     "iopub.execute_input": "2024-09-03T12:44:02.059409Z",
     "iopub.status.busy": "2024-09-03T12:44:02.059036Z",
     "iopub.status.idle": "2024-09-03T12:44:02.086217Z",
     "shell.execute_reply": "2024-09-03T12:44:02.079104Z",
     "shell.execute_reply.started": "2024-09-03T12:44:02.059366Z"
    },
    "tags": []
   },
   "outputs": [
    {
     "name": "stdout",
     "output_type": "stream",
     "text": [
      "Real and Different Roots\n",
      "The solutions are (1.4384471871911697+0j) and (5.561552812808831+0j)\n"
     ]
    }
   ],
   "source": [
    "# Purpose: Write a function to evaluate a general quadratic equation $y=ax^2+bx+c$. \n",
    "# Use this function to check that your solution to the quadratic with the original coefficients is correct.\n",
    "\n",
    "\n",
    "import math\n",
    "import cmath\n",
    "\n",
    "\n",
    "def solve_quadratic(a, b, c):\n",
    "    disc = (b**2) - (4*a*c)\n",
    "    sqrtval = math.sqrt(abs(disc))\n",
    "    sqrtval = cmath.sqrt(disc)\n",
    "    \n",
    "    x = -b/(2*a)\n",
    "    \n",
    "    # checking condition for discriminant\n",
    "    if disc > 0:\n",
    "        print(\"Real and Different Roots\")\n",
    "        x1 = x + (sqrtval/(2*a))\n",
    "        x2 = x - (sqrtval/(2*a))\n",
    "        print('The solutions are {0} and {1}'.format(x1, x2))\n",
    "        \n",
    "    elif disc == 0:\n",
    "        print(\"Real and Same Roots\")\n",
    "        print('The solution is {0}'.format(x))\n",
    "        \n",
    "    else:\n",
    "        print(\"Complex Roots\")\n",
    "        x1 = x + (sqrtval/(2*a))\n",
    "        x2 = x - (sqrtval/(2*a))\n",
    "        print('The solutions are {0} and {1}'.format(x1, x2))\n",
    "        #print(x, \"+\", abs(sqrtval/(2*a)), \"i\")\n",
    "        #print(x, \"-\", abs(sqrtval/(2*a)), \"i\")\n",
    "        #print('The solutions are {0} and {1}'.format(x1, x2))\n",
    "        \n",
    "        \n",
    "# Main program\n",
    "\n",
    "# These variables are the coefficients of the quadratic equation: ax^2 + bx + c = 0\n",
    "a = float(-2.5)\n",
    "b = float(17.5)\n",
    "c = float(-20.0)\n",
    "\n",
    "if a == 0:\n",
    "    print(\"This is not a quadratic equation. Enter appropriate coefficients.\")\n",
    "else:\n",
    "    solve_quadratic(a, b, c)\n",
    "    \n"
   ]
  },
  {
   "cell_type": "code",
   "execution_count": null,
   "metadata": {},
   "outputs": [],
   "source": []
  },
  {
   "cell_type": "markdown",
   "metadata": {},
   "source": [
    "4. Try running both cells again after changing the values of the coefficients by small amounts relative to the original values. Make some notes in the markup cell below on whether your code performed differently for different inputs relative to the original coefficient values. Think about what changes you could make to the code to get more reliable performance from it."
   ]
  },
  {
   "cell_type": "markdown",
   "metadata": {},
   "source": [
    "###Update Answer### \n",
    "For the coefficients that result in complex roots, I calculated the real part and the value for the imaginary part and parsed it together for the answer to be printed correctly. However, I wasn't sure how to write the code so the answer is calculated and printed correctly without splicing the parts."
   ]
  },
  {
   "cell_type": "markdown",
   "metadata": {},
   "source": [
    "# Part B: Plotting, NumPy, files, and basic polynomial fitting\n",
    "\n",
    "Plotting is going to be essential in the course, so you might as well learn the basics now. The standard python plotting language is called `matplotlib`, and it is easiest to use through its sub-package `pyplot`, which gives you an interface that behaves similarly to Matlab. The [pyplot tutorial](https://matplotlib.org/stable/tutorials/introductory/pyplot.html#sphx-glr-tutorials-introductory-pyplot-py) gives you an introduction to many of the things you might want to do with `pyplot`, but for now we'll make the simplest possible plot. I've put in the outline of the plotting commands below, but you'll need to supply the data to plot. There are many ways to do this, but for now, please write code that meets the following requirements.\n",
    "\n",
    "1. Create a **list** with a series of x values between -6 and 10 that you enter by hand. Create an **empty list** to store the y values. Use a **loop** to **append** a y value to the list for each x value, with the y value computed using the **function** you wrote earlier. This way of doing things may be familiar to you if you've written C or C++ code previously."
   ]
  },
  {
   "cell_type": "code",
   "execution_count": 1,
   "metadata": {
    "execution": {
     "iopub.execute_input": "2024-09-03T18:09:03.083153Z",
     "iopub.status.busy": "2024-09-03T18:09:03.082799Z",
     "iopub.status.idle": "2024-09-03T18:09:22.014566Z",
     "shell.execute_reply": "2024-09-03T18:09:22.013078Z",
     "shell.execute_reply.started": "2024-09-03T18:09:03.083110Z"
    },
    "tags": []
   },
   "outputs": [
    {
     "name": "stdout",
     "output_type": "stream",
     "text": [
      "Enter a series of x values between -6 and 10 (type 'done' when finished):\n"
     ]
    },
    {
     "name": "stdin",
     "output_type": "stream",
     "text": [
      "Enter x value:  -3\n",
      "Enter x value:  -4\n",
      "Enter x value:  0\n",
      "Enter x value:  1\n",
      "Enter x value:  5\n",
      "Enter x value:  7\n",
      "Enter x value:  done\n"
     ]
    },
    {
     "name": "stdout",
     "output_type": "stream",
     "text": [
      "X values: [-3.0, -4.0, 0.0, 1.0, 5.0, 7.0]\n",
      "Y values: [-95.0, -130.0, -20.0, -5.0, 5.0, -20.0]\n"
     ]
    }
   ],
   "source": [
    "# Step 1: Define a function using the math package to compute y from x\n",
    "def compute_y(a, b, c, x):\n",
    "    return a*(x**2) + b*x + c\n",
    "\n",
    "# Step 2: Create empty lists to store x and y values\n",
    "x_lst = []\n",
    "y_lst = []\n",
    "\n",
    "\n",
    "# Step 3: Input x values from the user\n",
    "\n",
    "# Coefficients needed for the quadratic equation: y= ax^2 + bx + c \n",
    "a = float(-2.5)\n",
    "b = float(17.5)\n",
    "c = float(-20.0)\n",
    "\n",
    "print(\"Enter a series of x values between -6 and 10 (type 'done' when finished):\")\n",
    "while True:\n",
    "    user_input = input(\"Enter x value: \")\n",
    "    if user_input.lower() == 'done':\n",
    "        break\n",
    "    try:\n",
    "        x = float(user_input)\n",
    "        \n",
    "        if -6 <= x <= 10:\n",
    "            x_lst.append(x)\n",
    "            \n",
    "            y = compute_y(a, b, c, x)\n",
    "            y_lst.append(y)\n",
    "            \n",
    "        else:\n",
    "            print(\"Please enter a value between -6 and 10.\")\n",
    "    except ValueError:\n",
    "        print(\"Invalid input. Please enter a numeric value.\")\n",
    "\n",
    "# Print the results of the list\n",
    "print(\"X values:\", x_lst)\n",
    "print(\"Y values:\", y_lst)\n"
   ]
  },
  {
   "cell_type": "code",
   "execution_count": 2,
   "metadata": {
    "execution": {
     "iopub.execute_input": "2024-09-03T18:13:03.870311Z",
     "iopub.status.busy": "2024-09-03T18:13:03.869824Z",
     "iopub.status.idle": "2024-09-03T18:13:44.546057Z",
     "shell.execute_reply": "2024-09-03T18:13:44.544409Z",
     "shell.execute_reply.started": "2024-09-03T18:13:03.870263Z"
    },
    "tags": []
   },
   "outputs": [
    {
     "name": "stdout",
     "output_type": "stream",
     "text": [
      "Enter a series of x values between -6 and 10 (type 'done' when finished):\n"
     ]
    },
    {
     "name": "stdin",
     "output_type": "stream",
     "text": [
      "Enter x value:  -5\n",
      "Enter x value:  -4\n",
      "Enter x value:  -3\n",
      "Enter x value:  0\n",
      "Enter x value:  1\n",
      "Enter x value:  3.5\n",
      "Enter x value:  6\n",
      "Enter x value:  7.5\n",
      "Enter x value:  done\n"
     ]
    },
    {
     "data": {
      "image/png": "[encoded data removed]",
      "text/plain": [
       "<Figure size 432x288 with 1 Axes>"
      ]
     },
     "metadata": {
      "needs_background": "light"
     },
     "output_type": "display_data"
    }
   ],
   "source": [
    "import matplotlib.pyplot as plt #import pyplot and rename it plt for short\n",
    "\n",
    "#Insert code here to produce the lists of x and y values needed by the plot commands below\n",
    "# Step 1: Define a function using the math package to compute y from x\n",
    "def compute_y(a, b, c, x):\n",
    "    return a*(x**2) + b*x + c\n",
    "\n",
    "# Step 2: Create empty lists to store x and y values\n",
    "x_lst = []\n",
    "y_lst = []\n",
    "\n",
    "\n",
    "# Step 3: Input x values from the user\n",
    "\n",
    "# Coefficients needed for the quadratic equation: y= ax^2 + bx + c \n",
    "a = float(-2.5)\n",
    "b = float(17.5)\n",
    "c = float(-20.0)\n",
    "\n",
    "print(\"Enter a series of x values between -6 and 10 (type 'done' when finished):\")\n",
    "while True:\n",
    "    user_input = input(\"Enter x value: \")\n",
    "    if user_input.lower() == 'done':\n",
    "        break\n",
    "    try:\n",
    "        x = float(user_input)\n",
    "        \n",
    "        if -6 <= x <= 10:\n",
    "            x_lst.append(x)\n",
    "            \n",
    "            y = compute_y(a, b, c, x)\n",
    "            y_lst.append(y)\n",
    "            \n",
    "        else:\n",
    "            print(\"Please enter a value between -6 and 10.\")\n",
    "    except ValueError:\n",
    "        print(\"Invalid input. Please enter a numeric value.\")\n",
    "    \n",
    "plt.figure() #set up a figure\n",
    "plt.plot(x_lst,y_lst) #issue the plot command\n",
    "plt.xlabel('x') #Set the axis labels\n",
    "plt.ylabel('y')\n",
    "plt.show() #Show the plot"
   ]
  },
  {
   "cell_type": "markdown",
   "metadata": {},
   "source": [
    "Numpy is a package built for performing efficient numerical calculations in python. Python loops are quite inefficient, and loops are common in a lot of numerical calculations. Numpy allows you to perform loops implicitly on list-like objects called arrays. Arrays can have one or more dimensions - a 1-d array is like a list, a 2-d array is like a table or matrix; more dimensions are possible. You can read more about numpy under the Data Science Tutorials heading on learnpython.org.\n",
    "\n",
    "2. Repeat the task of generating the data to plot in the previous cell using **numpy arrays** an **implcit loop**, this time aiming to achieve higher resolution in the plot. You might find the numpy function `linspace` helpful. You can get help on most functions by using the help function, e.g., `help(numpy.linspace)`. Once the data is generated, plot it."
   ]
  },
  {
   "cell_type": "code",
   "execution_count": 1,
   "metadata": {
    "collapsed": true,
    "execution": {
     "iopub.execute_input": "2024-09-03T18:17:47.058248Z",
     "iopub.status.busy": "2024-09-03T18:17:47.057890Z",
     "iopub.status.idle": "2024-09-03T18:17:47.067873Z",
     "shell.execute_reply": "2024-09-03T18:17:47.066278Z",
     "shell.execute_reply.started": "2024-09-03T18:17:47.058206Z"
    },
    "jupyter": {
     "outputs_hidden": true
    },
    "tags": []
   },
   "outputs": [
    {
     "name": "stdout",
     "output_type": "stream",
     "text": [
      "Help on function linspace in module numpy:\n",
      "\n",
      "linspace(start, stop, num=50, endpoint=True, retstep=False, dtype=None, axis=0)\n",
      "    Return evenly spaced numbers over a specified interval.\n",
      "    \n",
      "    Returns `num` evenly spaced samples, calculated over the\n",
      "    interval [`start`, `stop`].\n",
      "    \n",
      "    The endpoint of the interval can optionally be excluded.\n",
      "    \n",
      "    .. versionchanged:: 1.16.0\n",
      "        Non-scalar `start` and `stop` are now supported.\n",
      "    \n",
      "    .. versionchanged:: 1.20.0\n",
      "        Values are rounded towards ``-inf`` instead of ``0`` when an\n",
      "        integer ``dtype`` is specified. The old behavior can\n",
      "        still be obtained with ``np.linspace(start, stop, num).astype(int)``\n",
      "    \n",
      "    Parameters\n",
      "    ----------\n",
      "    start : array_like\n",
      "        The starting value of the sequence.\n",
      "    stop : array_like\n",
      "        The end value of the sequence, unless `endpoint` is set to False.\n",
      "        In that case, the sequence consists of all but the last of ``num + 1``\n",
      "        evenly spaced samples, so that `stop` is excluded.  Note that the step\n",
      "        size changes when `endpoint` is False.\n",
      "    num : int, optional\n",
      "        Number of samples to generate. Default is 50. Must be non-negative.\n",
      "    endpoint : bool, optional\n",
      "        If True, `stop` is the last sample. Otherwise, it is not included.\n",
      "        Default is True.\n",
      "    retstep : bool, optional\n",
      "        If True, return (`samples`, `step`), where `step` is the spacing\n",
      "        between samples.\n",
      "    dtype : dtype, optional\n",
      "        The type of the output array.  If `dtype` is not given, the data type\n",
      "        is inferred from `start` and `stop`. The inferred dtype will never be\n",
      "        an integer; `float` is chosen even if the arguments would produce an\n",
      "        array of integers.\n",
      "    \n",
      "        .. versionadded:: 1.9.0\n",
      "    \n",
      "    axis : int, optional\n",
      "        The axis in the result to store the samples.  Relevant only if start\n",
      "        or stop are array-like.  By default (0), the samples will be along a\n",
      "        new axis inserted at the beginning. Use -1 to get an axis at the end.\n",
      "    \n",
      "        .. versionadded:: 1.16.0\n",
      "    \n",
      "    Returns\n",
      "    -------\n",
      "    samples : ndarray\n",
      "        There are `num` equally spaced samples in the closed interval\n",
      "        ``[start, stop]`` or the half-open interval ``[start, stop)``\n",
      "        (depending on whether `endpoint` is True or False).\n",
      "    step : float, optional\n",
      "        Only returned if `retstep` is True\n",
      "    \n",
      "        Size of spacing between samples.\n",
      "    \n",
      "    \n",
      "    See Also\n",
      "    --------\n",
      "    arange : Similar to `linspace`, but uses a step size (instead of the\n",
      "             number of samples).\n",
      "    geomspace : Similar to `linspace`, but with numbers spaced evenly on a log\n",
      "                scale (a geometric progression).\n",
      "    logspace : Similar to `geomspace`, but with the end points specified as\n",
      "               logarithms.\n",
      "    \n",
      "    Examples\n",
      "    --------\n",
      "    >>> np.linspace(2.0, 3.0, num=5)\n",
      "    array([2.  , 2.25, 2.5 , 2.75, 3.  ])\n",
      "    >>> np.linspace(2.0, 3.0, num=5, endpoint=False)\n",
      "    array([2. ,  2.2,  2.4,  2.6,  2.8])\n",
      "    >>> np.linspace(2.0, 3.0, num=5, retstep=True)\n",
      "    (array([2.  ,  2.25,  2.5 ,  2.75,  3.  ]), 0.25)\n",
      "    \n",
      "    Graphical illustration:\n",
      "    \n",
      "    >>> import matplotlib.pyplot as plt\n",
      "    >>> N = 8\n",
      "    >>> y = np.zeros(N)\n",
      "    >>> x1 = np.linspace(0, 10, N, endpoint=True)\n",
      "    >>> x2 = np.linspace(0, 10, N, endpoint=False)\n",
      "    >>> plt.plot(x1, y, 'o')\n",
      "    [<matplotlib.lines.Line2D object at 0x...>]\n",
      "    >>> plt.plot(x2, y + 0.5, 'o')\n",
      "    [<matplotlib.lines.Line2D object at 0x...>]\n",
      "    >>> plt.ylim([-0.5, 1])\n",
      "    (-0.5, 1)\n",
      "    >>> plt.show()\n",
      "\n"
     ]
    }
   ],
   "source": [
    "import numpy as np\n",
    "help(np.linspace)"
   ]
  },
  {
   "cell_type": "code",
   "execution_count": 1,
   "metadata": {
    "execution": {
     "iopub.execute_input": "2024-09-03T22:51:13.878454Z",
     "iopub.status.busy": "2024-09-03T22:51:13.877448Z",
     "iopub.status.idle": "2024-09-03T22:51:39.476066Z",
     "shell.execute_reply": "2024-09-03T22:51:39.474417Z",
     "shell.execute_reply.started": "2024-09-03T22:51:13.878403Z"
    },
    "tags": []
   },
   "outputs": [
    {
     "name": "stdout",
     "output_type": "stream",
     "text": [
      "Enter a series of x values between -6 and 10 (type 'done' when finished):\n"
     ]
    },
    {
     "name": "stdin",
     "output_type": "stream",
     "text": [
      "Enter x value:  -5\n",
      "Enter x value:  -4\n",
      "Enter x value:  -3\n",
      "Enter x value:  0\n",
      "Enter x value:  1\n",
      "Enter x value:  3.5\n",
      "Enter x value:  6\n",
      "Enter x value:  7.5\n",
      "Enter x value:  done\n"
     ]
    },
    {
     "data": {
      "image/png": "[encoded data removed]",
      "text/plain": [
       "<Figure size 432x288 with 1 Axes>"
      ]
     },
     "metadata": {
      "needs_background": "light"
     },
     "output_type": "display_data"
    }
   ],
   "source": [
    "import numpy as np\n",
    "import matplotlib.pyplot as plt #import pyplot and rename it plt for short\n",
    "\n",
    "#Insert code here to produce the lists of x and y values needed by the plot commands below\n",
    "# Step 1: Define a function using the math package to compute y from x\n",
    "def compute_y(a, b, c, x):\n",
    "    return a*(x**2) + b*x + c\n",
    "\n",
    "# Step 2: Create empty lists to store x and y values\n",
    "x_vals_input = []\n",
    "#y_lst = []\n",
    "\n",
    "\n",
    "# Step 3: Input x values from the user\n",
    "\n",
    "# Coefficients needed for the quadratic equation: y= ax^2 + bx + c \n",
    "#a = float(-2.5)\n",
    "#b = float(17.5)\n",
    "#c = float(-20.0)\n",
    "\n",
    "print(\"Enter a series of x values between -6 and 10 (type 'done' when finished):\")\n",
    "while True:\n",
    "    user_input = input(\"Enter x value: \")\n",
    "    if user_input.lower() == 'done':\n",
    "        break\n",
    "    try:\n",
    "        x = float(user_input)\n",
    "        \n",
    "        if -6 <= x <= 10:\n",
    "            x_vals_input.append(x)\n",
    "            \n",
    "            #y = compute_y(a, b, c, x)\n",
    "            #y_lst.append(y)\n",
    "            \n",
    "        else:\n",
    "            print(\"Please enter a value between -6 and 10.\")\n",
    "    except ValueError:\n",
    "        print(\"Invalid input. Please enter a numeric value.\")\n",
    "\n",
    "#x_vals_lst = [float(num) for num in x_vals_input.split(',')]\n",
    "#x_vals_lst = (float, x_vals_input, # [float(num) for num in x_vals_input.split(',')]\n",
    "\n",
    "x_vals = np.array(x_vals_input)\n",
    "\n",
    "# Coefficients needed for the quadratic equation: y= ax^2 + bx + c \n",
    "a = float(-2.5)\n",
    "b = float(17.5)\n",
    "c = float(-20.0)\n",
    "\n",
    "y_vals = compute_y(x_vals, a, b, c)\n",
    "\n",
    "        \n",
    "plt.figure() #set up a figure\n",
    "plt.plot(x_vals,y_vals) #issue the plot command\n",
    "plt.xlabel('x') #Set the axis labels\n",
    "plt.ylabel('y')\n",
    "plt.show() #Show the plot"
   ]
  },
  {
   "cell_type": "code",
   "execution_count": 1,
   "metadata": {
    "collapsed": true,
    "execution": {
     "iopub.execute_input": "2024-09-03T20:59:53.907767Z",
     "iopub.status.busy": "2024-09-03T20:59:53.907262Z",
     "iopub.status.idle": "2024-09-03T20:59:53.917214Z",
     "shell.execute_reply": "2024-09-03T20:59:53.915955Z",
     "shell.execute_reply.started": "2024-09-03T20:59:53.907722Z"
    },
    "jupyter": {
     "outputs_hidden": true
    },
    "tags": []
   },
   "outputs": [
    {
     "name": "stdout",
     "output_type": "stream",
     "text": [
      "Help on built-in function array in module numpy:\n",
      "\n",
      "array(...)\n",
      "    array(object, dtype=None, *, copy=True, order='K', subok=False, ndmin=0,\n",
      "          like=None)\n",
      "    \n",
      "    Create an array.\n",
      "    \n",
      "    Parameters\n",
      "    ----------\n",
      "    object : array_like\n",
      "        An array, any object exposing the array interface, an object whose\n",
      "        __array__ method returns an array, or any (nested) sequence.\n",
      "    dtype : data-type, optional\n",
      "        The desired data-type for the array.  If not given, then the type will\n",
      "        be determined as the minimum type required to hold the objects in the\n",
      "        sequence.\n",
      "    copy : bool, optional\n",
      "        If true (default), then the object is copied.  Otherwise, a copy will\n",
      "        only be made if __array__ returns a copy, if obj is a nested sequence,\n",
      "        or if a copy is needed to satisfy any of the other requirements\n",
      "        (`dtype`, `order`, etc.).\n",
      "    order : {'K', 'A', 'C', 'F'}, optional\n",
      "        Specify the memory layout of the array. If object is not an array, the\n",
      "        newly created array will be in C order (row major) unless 'F' is\n",
      "        specified, in which case it will be in Fortran order (column major).\n",
      "        If object is an array the following holds.\n",
      "    \n",
      "        ===== ========= ===================================================\n",
      "        order  no copy                     copy=True\n",
      "        ===== ========= ===================================================\n",
      "        'K'   unchanged F & C order preserved, otherwise most similar order\n",
      "        'A'   unchanged F order if input is F and not C, otherwise C order\n",
      "        'C'   C order   C order\n",
      "        'F'   F order   F order\n",
      "        ===== ========= ===================================================\n",
      "    \n",
      "        When ``copy=False`` and a copy is made for other reasons, the result is\n",
      "        the same as if ``copy=True``, with some exceptions for 'A', see the\n",
      "        Notes section. The default order is 'K'.\n",
      "    subok : bool, optional\n",
      "        If True, then sub-classes will be passed-through, otherwise\n",
      "        the returned array will be forced to be a base-class array (default).\n",
      "    ndmin : int, optional\n",
      "        Specifies the minimum number of dimensions that the resulting\n",
      "        array should have.  Ones will be pre-pended to the shape as\n",
      "        needed to meet this requirement.\n",
      "    like : array_like\n",
      "        Reference object to allow the creation of arrays which are not\n",
      "        NumPy arrays. If an array-like passed in as ``like`` supports\n",
      "        the ``__array_function__`` protocol, the result will be defined\n",
      "        by it. In this case, it ensures the creation of an array object\n",
      "        compatible with that passed in via this argument.\n",
      "    \n",
      "        .. versionadded:: 1.20.0\n",
      "    \n",
      "    Returns\n",
      "    -------\n",
      "    out : ndarray\n",
      "        An array object satisfying the specified requirements.\n",
      "    \n",
      "    See Also\n",
      "    --------\n",
      "    empty_like : Return an empty array with shape and type of input.\n",
      "    ones_like : Return an array of ones with shape and type of input.\n",
      "    zeros_like : Return an array of zeros with shape and type of input.\n",
      "    full_like : Return a new array with shape of input filled with value.\n",
      "    empty : Return a new uninitialized array.\n",
      "    ones : Return a new array setting values to one.\n",
      "    zeros : Return a new array setting values to zero.\n",
      "    full : Return a new array of given shape filled with value.\n",
      "    \n",
      "    \n",
      "    Notes\n",
      "    -----\n",
      "    When order is 'A' and `object` is an array in neither 'C' nor 'F' order,\n",
      "    and a copy is forced by a change in dtype, then the order of the result is\n",
      "    not necessarily 'C' as expected. This is likely a bug.\n",
      "    \n",
      "    Examples\n",
      "    --------\n",
      "    >>> np.array([1, 2, 3])\n",
      "    array([1, 2, 3])\n",
      "    \n",
      "    Upcasting:\n",
      "    \n",
      "    >>> np.array([1, 2, 3.0])\n",
      "    array([ 1.,  2.,  3.])\n",
      "    \n",
      "    More than one dimension:\n",
      "    \n",
      "    >>> np.array([[1, 2], [3, 4]])\n",
      "    array([[1, 2],\n",
      "           [3, 4]])\n",
      "    \n",
      "    Minimum dimensions 2:\n",
      "    \n",
      "    >>> np.array([1, 2, 3], ndmin=2)\n",
      "    array([[1, 2, 3]])\n",
      "    \n",
      "    Type provided:\n",
      "    \n",
      "    >>> np.array([1, 2, 3], dtype=complex)\n",
      "    array([ 1.+0.j,  2.+0.j,  3.+0.j])\n",
      "    \n",
      "    Data-type consisting of more than one element:\n",
      "    \n",
      "    >>> x = np.array([(1,2),(3,4)],dtype=[('a','<i4'),('b','<i4')])\n",
      "    >>> x['a']\n",
      "    array([1, 3])\n",
      "    \n",
      "    Creating an array from sub-classes:\n",
      "    \n",
      "    >>> np.array(np.mat('1 2; 3 4'))\n",
      "    array([[1, 2],\n",
      "           [3, 4]])\n",
      "    \n",
      "    >>> np.array(np.mat('1 2; 3 4'), subok=True)\n",
      "    matrix([[1, 2],\n",
      "            [3, 4]])\n",
      "\n"
     ]
    }
   ],
   "source": [
    "import numpy as np\n",
    "help(np.array)"
   ]
  },
  {
   "cell_type": "markdown",
   "metadata": {},
   "source": [
    "To focus the telescope we will take measurements of the size of stars at different focus positions and search for the focus position that gives the minimum sized star. The size of the star as a function of focus position is well approximated by a quadratic, so an efficient method of finding the focus is to take a few measurements, fit a quadratic function, and then find its minimum. Here is a table of focus measurements taken previously:\n",
    "\n",
    "|Focus position|Star size (pixels)|\n",
    "|--------------|------------------|\n",
    "|-40|4.85|\n",
    "|-20|3.71|\n",
    "|0|2.56|\n",
    "|20|2.51|\n",
    "|40|3.17|\n",
    "\n",
    "Create a new CSV (comma separated variable) file by going to the File menu above, clicking \"New Launcher,\" then selecting the \"CSV file\" app - it will open up a spreadsheet. Add a column and 5 rows, then copy in the values from the table above into the csv file. Save it with a sensible filename (e.g., focus.csv). \n",
    "\n",
    "3. Write code to **load the csv file** into a numpy array using the numpy `loadtxt` function using the optional arguments `skiprows=1,delimiter=','`. Plot the focus data using **stride array indexing** to access the individual columns from the csv file (now a 2-d array). You'll want to use a point style formatting for the data points, rather than a line. Don't forget axis labels.\n",
    "\n"
   ]
  },
  {
   "cell_type": "code",
   "execution_count": 1,
   "metadata": {
    "collapsed": true,
    "execution": {
     "iopub.execute_input": "2024-09-03T22:58:46.120662Z",
     "iopub.status.busy": "2024-09-03T22:58:46.120129Z",
     "iopub.status.idle": "2024-09-03T22:58:46.133020Z",
     "shell.execute_reply": "2024-09-03T22:58:46.131160Z",
     "shell.execute_reply.started": "2024-09-03T22:58:46.120601Z"
    },
    "jupyter": {
     "outputs_hidden": true
    },
    "tags": []
   },
   "outputs": [
    {
     "name": "stdout",
     "output_type": "stream",
     "text": [
      "Help on function loadtxt in module numpy:\n",
      "\n",
      "loadtxt(fname, dtype=<class 'float'>, comments='#', delimiter=None, converters=None, skiprows=0, usecols=None, unpack=False, ndmin=0, encoding='bytes', max_rows=None, *, like=None)\n",
      "    Load data from a text file.\n",
      "    \n",
      "    Each row in the text file must have the same number of values.\n",
      "    \n",
      "    Parameters\n",
      "    ----------\n",
      "    fname : file, str, or pathlib.Path\n",
      "        File, filename, or generator to read.  If the filename extension is\n",
      "        ``.gz`` or ``.bz2``, the file is first decompressed. Note that\n",
      "        generators should return byte strings.\n",
      "    dtype : data-type, optional\n",
      "        Data-type of the resulting array; default: float.  If this is a\n",
      "        structured data-type, the resulting array will be 1-dimensional, and\n",
      "        each row will be interpreted as an element of the array.  In this\n",
      "        case, the number of columns used must match the number of fields in\n",
      "        the data-type.\n",
      "    comments : str or sequence of str, optional\n",
      "        The characters or list of characters used to indicate the start of a\n",
      "        comment. None implies no comments. For backwards compatibility, byte\n",
      "        strings will be decoded as 'latin1'. The default is '#'.\n",
      "    delimiter : str, optional\n",
      "        The string used to separate values. For backwards compatibility, byte\n",
      "        strings will be decoded as 'latin1'. The default is whitespace.\n",
      "    converters : dict, optional\n",
      "        A dictionary mapping column number to a function that will parse the\n",
      "        column string into the desired value.  E.g., if column 0 is a date\n",
      "        string: ``converters = {0: datestr2num}``.  Converters can also be\n",
      "        used to provide a default value for missing data (but see also\n",
      "        `genfromtxt`): ``converters = {3: lambda s: float(s.strip() or 0)}``.\n",
      "        Default: None.\n",
      "    skiprows : int, optional\n",
      "        Skip the first `skiprows` lines, including comments; default: 0.\n",
      "    usecols : int or sequence, optional\n",
      "        Which columns to read, with 0 being the first. For example,\n",
      "        ``usecols = (1,4,5)`` will extract the 2nd, 5th and 6th columns.\n",
      "        The default, None, results in all columns being read.\n",
      "    \n",
      "        .. versionchanged:: 1.11.0\n",
      "            When a single column has to be read it is possible to use\n",
      "            an integer instead of a tuple. E.g ``usecols = 3`` reads the\n",
      "            fourth column the same way as ``usecols = (3,)`` would.\n",
      "    unpack : bool, optional\n",
      "        If True, the returned array is transposed, so that arguments may be\n",
      "        unpacked using ``x, y, z = loadtxt(...)``.  When used with a\n",
      "        structured data-type, arrays are returned for each field.\n",
      "        Default is False.\n",
      "    ndmin : int, optional\n",
      "        The returned array will have at least `ndmin` dimensions.\n",
      "        Otherwise mono-dimensional axes will be squeezed.\n",
      "        Legal values: 0 (default), 1 or 2.\n",
      "    \n",
      "        .. versionadded:: 1.6.0\n",
      "    encoding : str, optional\n",
      "        Encoding used to decode the inputfile. Does not apply to input streams.\n",
      "        The special value 'bytes' enables backward compatibility workarounds\n",
      "        that ensures you receive byte arrays as results if possible and passes\n",
      "        'latin1' encoded strings to converters. Override this value to receive\n",
      "        unicode arrays and pass strings as input to converters.  If set to None\n",
      "        the system default is used. The default value is 'bytes'.\n",
      "    \n",
      "        .. versionadded:: 1.14.0\n",
      "    max_rows : int, optional\n",
      "        Read `max_rows` lines of content after `skiprows` lines. The default\n",
      "        is to read all the lines.\n",
      "    \n",
      "        .. versionadded:: 1.16.0\n",
      "    like : array_like\n",
      "        Reference object to allow the creation of arrays which are not\n",
      "        NumPy arrays. If an array-like passed in as ``like`` supports\n",
      "        the ``__array_function__`` protocol, the result will be defined\n",
      "        by it. In this case, it ensures the creation of an array object\n",
      "        compatible with that passed in via this argument.\n",
      "    \n",
      "        .. versionadded:: 1.20.0\n",
      "    \n",
      "    Returns\n",
      "    -------\n",
      "    out : ndarray\n",
      "        Data read from the text file.\n",
      "    \n",
      "    See Also\n",
      "    --------\n",
      "    load, fromstring, fromregex\n",
      "    genfromtxt : Load data with missing values handled as specified.\n",
      "    scipy.io.loadmat : reads MATLAB data files\n",
      "    \n",
      "    Notes\n",
      "    -----\n",
      "    This function aims to be a fast reader for simply formatted files.  The\n",
      "    `genfromtxt` function provides more sophisticated handling of, e.g.,\n",
      "    lines with missing values.\n",
      "    \n",
      "    .. versionadded:: 1.10.0\n",
      "    \n",
      "    The strings produced by the Python float.hex method can be used as\n",
      "    input for floats.\n",
      "    \n",
      "    Examples\n",
      "    --------\n",
      "    >>> from io import StringIO   # StringIO behaves like a file object\n",
      "    >>> c = StringIO(\"0 1\\n2 3\")\n",
      "    >>> np.loadtxt(c)\n",
      "    array([[0., 1.],\n",
      "           [2., 3.]])\n",
      "    \n",
      "    >>> d = StringIO(\"M 21 72\\nF 35 58\")\n",
      "    >>> np.loadtxt(d, dtype={'names': ('gender', 'age', 'weight'),\n",
      "    ...                      'formats': ('S1', 'i4', 'f4')})\n",
      "    array([(b'M', 21, 72.), (b'F', 35, 58.)],\n",
      "          dtype=[('gender', 'S1'), ('age', '<i4'), ('weight', '<f4')])\n",
      "    \n",
      "    >>> c = StringIO(\"1,0,2\\n3,0,4\")\n",
      "    >>> x, y = np.loadtxt(c, delimiter=',', usecols=(0, 2), unpack=True)\n",
      "    >>> x\n",
      "    array([1., 3.])\n",
      "    >>> y\n",
      "    array([2., 4.])\n",
      "    \n",
      "    This example shows how `converters` can be used to convert a field\n",
      "    with a trailing minus sign into a negative number.\n",
      "    \n",
      "    >>> s = StringIO('10.01 31.25-\\n19.22 64.31\\n17.57- 63.94')\n",
      "    >>> def conv(fld):\n",
      "    ...     return -float(fld[:-1]) if fld.endswith(b'-') else float(fld)\n",
      "    ...\n",
      "    >>> np.loadtxt(s, converters={0: conv, 1: conv})\n",
      "    array([[ 10.01, -31.25],\n",
      "           [ 19.22,  64.31],\n",
      "           [-17.57,  63.94]])\n",
      "\n"
     ]
    }
   ],
   "source": [
    "import  numpy as np\n",
    "help(np.loadtxt)"
   ]
  },
  {
   "cell_type": "code",
   "execution_count": 1,
   "metadata": {
    "execution": {
     "iopub.execute_input": "2024-09-03T23:16:09.870864Z",
     "iopub.status.busy": "2024-09-03T23:16:09.870307Z",
     "iopub.status.idle": "2024-09-03T23:16:10.302142Z",
     "shell.execute_reply": "2024-09-03T23:16:10.300689Z",
     "shell.execute_reply.started": "2024-09-03T23:16:09.870794Z"
    }
   },
   "outputs": [
    {
     "data": {
      "image/png": "[encoded data removed]",
      "text/plain": [
       "<Figure size 576x432 with 1 Axes>"
      ]
     },
     "metadata": {
      "needs_background": "light"
     },
     "output_type": "display_data"
    }
   ],
   "source": [
    "import numpy as np\n",
    "import matplotlib.pyplot as plt\n",
    "\n",
    "# Loading the CSV file into a numpy array\n",
    "data = np.loadtxt('focus.csv', delimiter = ',', skiprows = 1)\n",
    "\n",
    "# Stride array indexing to access individual columns\n",
    "x = data[:, 0]  # Assuming the first column is the x-axis data\n",
    "y = data[:, 1]  # Assuming the second column is the y-axis data\n",
    "\n",
    "# Plotting the data using point style formatting\n",
    "plt.figure(figsize=(8, 6))\n",
    "plt.plot(x, y, 'o', label='Data Points')  # 'o' is the point style for the plot\n",
    "plt.xlabel('Focus Position')  # x-axis label\n",
    "plt.ylabel('Star Sizes (pixels)')  # y-axis label\n",
    "plt.title('Focus Data Plot')\n",
    "plt.grid(True)\n",
    "plt.legend()\n",
    "plt.show()\n"
   ]
  },
  {
   "cell_type": "markdown",
   "metadata": {},
   "source": [
    "The points you plotted should look roughly quadratic, so lets fit for the best fit our quadratic function to the data. The `curve_fit` function in the `scipy.optimize` package is very easy to use, and has an example of its use at the bottom of its [documentation](https://docs.scipy.org/doc/scipy/reference/generated/scipy.optimize.curve_fit.html).\n",
    "\n",
    "4. Fit a quadratic **function** to the focus data and **plot** the resulting model as a line in addition to plotting the data on the same plot. **Find the minimum** of the best fit quadratic curve, either analytically or numerically, and **print** the focus value and star size at the minimum. "
   ]
  },
  {
   "cell_type": "code",
   "execution_count": 1,
   "metadata": {
    "execution": {
     "iopub.execute_input": "2024-09-03T23:24:20.055011Z",
     "iopub.status.busy": "2024-09-03T23:24:20.054656Z",
     "iopub.status.idle": "2024-09-03T23:24:20.551205Z",
     "shell.execute_reply": "2024-09-03T23:24:20.549680Z",
     "shell.execute_reply.started": "2024-09-03T23:24:20.054969Z"
    },
    "tags": []
   },
   "outputs": [
    {
     "data": {
      "image/png": "[encoded data removed]",
      "text/plain": [
       "<Figure size 576x432 with 1 Axes>"
      ]
     },
     "metadata": {
      "needs_background": "light"
     },
     "output_type": "display_data"
    },
    {
     "name": "stdout",
     "output_type": "stream",
     "text": [
      "Minimum Focus Value (x): 13.5830\n",
      "Minimum Star Size (y): 2.5337\n"
     ]
    }
   ],
   "source": [
    "import numpy as np\n",
    "import matplotlib.pyplot as plt\n",
    "\n",
    "# Load the CSV file into a numpy array\n",
    "data = np.loadtxt('focus.csv', delimiter = ',', skiprows = 1)\n",
    "\n",
    "# Stride array indexing to access individual columns\n",
    "x = data[:, 0]  # Assuming the first column is the x-axis data (e.g., focus value)\n",
    "y = data[:, 1]  # Assuming the second column is the y-axis data (e.g., star size)\n",
    "\n",
    "# Fit a quadratic function (degree 2) to the data\n",
    "coefficients = np.polyfit(x, y, 2)\n",
    "\n",
    "# Extract coefficients for the quadratic function: y = ax^2 + bx + c\n",
    "a, b, c = coefficients\n",
    "\n",
    "# Generate x values for plotting the fitted quadratic curve\n",
    "x_fit = np.linspace(min(x), max(x), 100)\n",
    "\n",
    "# Evaluate the quadratic function using the fitted coefficients\n",
    "y_fit = a * x_fit**2 + b * x_fit + c\n",
    "\n",
    "# Plotting the data points\n",
    "plt.figure(figsize=(8, 6))\n",
    "plt.plot(x, y, 'o', label='Data Points')  # Data points in point style\n",
    "\n",
    "# Plotting the fitted quadratic curve\n",
    "plt.plot(x_fit, y_fit, '-', label='Fitted Quadratic Curve')  # Fitted quadratic curve in line style\n",
    "\n",
    "# Add axis labels and title\n",
    "plt.xlabel('Focus Value')\n",
    "plt.ylabel('Star Size')\n",
    "plt.title('Focus Data with Quadratic Fit')\n",
    "plt.legend()\n",
    "plt.grid(True)\n",
    "plt.show()\n",
    "\n",
    "# Finding the minimum of the fitted quadratic curve\n",
    "x_min = -b / (2 * a)  # x-coordinate of the vertex (minimum point)\n",
    "y_min = a * x_min**2 + b * x_min + c  # y-coordinate of the vertex (minimum point)\n",
    "\n",
    "# Print the focus value and star size at the minimum\n",
    "print(f\"Minimum Focus Value (x): {x_min:.4f}\")\n",
    "print(f\"Minimum Star Size (y): {y_min:.4f}\")\n"
   ]
  },
  {
   "cell_type": "code",
   "execution_count": null,
   "metadata": {},
   "outputs": [],
   "source": []
  }
 ],
 "metadata": {
  "kernelspec": {
   "display_name": "Python 3.8 (py38)",
   "language": "python",
   "name": "py38"
  },
  "language_info": {
   "codemirror_mode": {
    "name": "ipython",
    "version": 3
   },
   "file_extension": ".py",
   "mimetype": "text/x-python",
   "name": "python",
   "nbconvert_exporter": "python",
   "pygments_lexer": "ipython3",
   "version": "3.8.5"
  }
 },
 "nbformat": 4,
 "nbformat_minor": 4
}
