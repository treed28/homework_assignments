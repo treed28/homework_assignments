{
 "cells": [
  {
   "cell_type": "markdown",
   "metadata": {
    "tags": []
   },
   "source": [
    "# GAIN ASSIGNMENT - Camera Characteriazation w/ Calibration Images"
   ]
  },
  {
   "cell_type": "markdown",
   "metadata": {},
   "source": [
    "# Readout Noise in Units of ADU"
   ]
  },
  {
   "cell_type": "markdown",
   "metadata": {
    "tags": []
   },
   "source": [
    "# 1: Write Expression for Variance in Pixel Values of Difference between Two Bias Images\n",
    "\n",
    "Let:  \n",
    "- $B_{1,x,y}$ - the pixel value at position $(x,y)$ in the first bias image  \n",
    "- $B_{2,x,y}$ - the pixel value at position $(x,y)$ in the second bias image  \n",
    "- $\\sigma_{read,ADU}$ - readout noise in units of ADU (Analog-to-Digital Units); standard deviation of readout noise distr  \n",
    "\n",
    "    "
   ]
  },
  {
   "cell_type": "code",
   "execution_count": 29,
   "metadata": {
    "execution": {
     "iopub.execute_input": "2024-10-01T02:53:03.277052Z",
     "iopub.status.busy": "2024-10-01T02:53:03.276512Z",
     "iopub.status.idle": "2024-10-01T02:53:03.317900Z",
     "shell.execute_reply": "2024-10-01T02:53:03.316763Z",
     "shell.execute_reply.started": "2024-10-01T02:53:03.277002Z"
    },
    "tags": []
   },
   "outputs": [
    {
     "data": {
      "text/latex": [
       "$\\displaystyle \\textbf{Approach:}$"
      ],
      "text/plain": [
       "<IPython.core.display.Math object>"
      ]
     },
     "metadata": {},
     "output_type": "display_data"
    },
    {
     "data": {
      "text/latex": [
       "$\\displaystyle \\text{First bias image:}$"
      ],
      "text/plain": [
       "<IPython.core.display.Math object>"
      ]
     },
     "metadata": {},
     "output_type": "display_data"
    },
    {
     "data": {
      "text/latex": [
       "$\\displaystyle B_{1,x,y} = \\overline{B}_{x,y} + \\Delta B_{1,x,y}\\text{   -->Eq. (1)}$"
      ],
      "text/plain": [
       "<IPython.core.display.Math object>"
      ]
     },
     "metadata": {},
     "output_type": "display_data"
    },
    {
     "data": {
      "text/latex": [
       "$\\displaystyle \\text{Second bias image:}$"
      ],
      "text/plain": [
       "<IPython.core.display.Math object>"
      ]
     },
     "metadata": {},
     "output_type": "display_data"
    },
    {
     "data": {
      "text/latex": [
       "$\\displaystyle B_{2,x,y} = \\overline{B}_{x,y} + \\Delta B_{2,x,y}\\text{   -->Eq. (2)}$"
      ],
      "text/plain": [
       "<IPython.core.display.Math object>"
      ]
     },
     "metadata": {},
     "output_type": "display_data"
    },
    {
     "data": {
      "text/latex": [
       "$\\displaystyle \\text{Difference between the two images:}$"
      ],
      "text/plain": [
       "<IPython.core.display.Math object>"
      ]
     },
     "metadata": {},
     "output_type": "display_data"
    },
    {
     "data": {
      "text/latex": [
       "$\\displaystyle B_{2,x,y} - B_{1,x,y} = (\\Delta B_{2,x,y} - \\Delta B_{1,x,y})\\text{   -->Eq. (3)}$"
      ],
      "text/plain": [
       "<IPython.core.display.Math object>"
      ]
     },
     "metadata": {},
     "output_type": "display_data"
    },
    {
     "data": {
      "text/latex": [
       "$\\displaystyle \\text{Since } \\Delta B_{1,x,y} \\text{ and } \\Delta B_{2,x,y} \\text{ are independent, the variance of the difference is:}$"
      ],
      "text/plain": [
       "<IPython.core.display.Math object>"
      ]
     },
     "metadata": {},
     "output_type": "display_data"
    },
    {
     "data": {
      "text/latex": [
       "$\\displaystyle \\text{Var}(B_{2,x,y} - B_{1,x,y}) = \\text{Var}(\\Delta B_{2,x,y}) + \\text{Var}(\\Delta B_{1,x,y})\\text{   -->Eq. (4)}$"
      ],
      "text/plain": [
       "<IPython.core.display.Math object>"
      ]
     },
     "metadata": {},
     "output_type": "display_data"
    },
    {
     "data": {
      "text/latex": [
       "$\\displaystyle \\text{The variance in terms of the readout noise:}$"
      ],
      "text/plain": [
       "<IPython.core.display.Math object>"
      ]
     },
     "metadata": {},
     "output_type": "display_data"
    },
    {
     "data": {
      "text/latex": [
       "$\\displaystyle \\text{Var}(B_{2,x,y} - B_{1,x,y}) = 2 \\sigma_{\\text{read,ADU}}^2\\text{   -->Eq. (5)}$"
      ],
      "text/plain": [
       "<IPython.core.display.Math object>"
      ]
     },
     "metadata": {},
     "output_type": "display_data"
    }
   ],
   "source": [
    "from IPython.display import display, Math\n",
    "\n",
    "# Approach to write the expression\n",
    "display(Math(r\"\\textbf{Approach:}\"))\n",
    "\n",
    "# Step 1: Model each bias pixel value $B_{1,x,y}$ & $B_{2,x,y}$\n",
    "display(Math(r\"\\text{First bias image:}\"))\n",
    "#display(Math(r\"\\text{Eq. 1--> } B_{1,x,y} = \\overline{B}_{x,y} + \\Delta B_{1,x,y}\"))\n",
    "display(Math(r\"B_{1,x,y} = \\overline{B}_{x,y} + \\Delta B_{1,x,y}\\text{   -->Eq. (1)}\"))\n",
    "\n",
    "display(Math(r\"\\text{Second bias image:}\"))\n",
    "display(Math(r\"B_{2,x,y} = \\overline{B}_{x,y} + \\Delta B_{2,x,y}\\text{   -->Eq. (2)}\"))\n",
    "\n",
    "# Step 2: Subtract the two images\n",
    "display(Math(r\"\\text{Difference between the two images:}\"))\n",
    "display(Math(r\"B_{2,x,y} - B_{1,x,y} = (\\Delta B_{2,x,y} - \\Delta B_{1,x,y})\\text{   -->Eq. (3)}\"))\n",
    "\n",
    "# Step 3: Variance of the difference\n",
    "#display(Math(r\"\\text{Difference between the two images:}\"))\n",
    "display(Math(r\"\\text{Since } \\Delta B_{1,x,y} \\text{ and } \\Delta B_{2,x,y} \\text{ are independent, the variance of the difference is:}\"))\n",
    "display(Math(r\"\\text{Var}(B_{2,x,y} - B_{1,x,y}) = \\text{Var}(\\Delta B_{2,x,y}) + \\text{Var}(\\Delta B_{1,x,y})\\text{   -->Eq. (4)}\"))\n",
    "\n",
    "# Step 4: Final expression for variance\n",
    "display(Math(r\"\\text{The variance in terms of the readout noise:}\"))\n",
    "display(Math(r\"\\text{Var}(B_{2,x,y} - B_{1,x,y}) = 2 \\sigma_{\\text{read,ADU}}^2\\text{   -->Eq. (5)}\"))\n",
    "\n",
    "\n"
   ]
  },
  {
   "cell_type": "markdown",
   "metadata": {
    "tags": []
   },
   "source": [
    "# 2: Write Expression for Readout Noise in units of ADU\n",
    "\n",
    "-  Start with Eq. 5\n",
    "-  Divide Eq. 5 on both sides by 2\n",
    "-  Take the square root of both sides of the resulting equation\n",
    "-  The final expression is the Readout Noise.\n",
    "    "
   ]
  },
  {
   "cell_type": "code",
   "execution_count": 25,
   "metadata": {
    "execution": {
     "iopub.execute_input": "2024-10-01T00:43:57.673243Z",
     "iopub.status.busy": "2024-10-01T00:43:57.672780Z",
     "iopub.status.idle": "2024-10-01T00:43:57.698985Z",
     "shell.execute_reply": "2024-10-01T00:43:57.697623Z",
     "shell.execute_reply.started": "2024-10-01T00:43:57.673199Z"
    },
    "jp-MarkdownHeadingCollapsed": true,
    "tags": []
   },
   "outputs": [
    {
     "data": {
      "text/latex": [
       "$\\displaystyle \\text{Start with the Eq. 5:}$"
      ],
      "text/plain": [
       "<IPython.core.display.Math object>"
      ]
     },
     "metadata": {},
     "output_type": "display_data"
    },
    {
     "data": {
      "text/latex": [
       "$\\displaystyle \\text{Var}(B_{2,x,y} - B_{1,x,y}) = 2 \\sigma_{\\text{read,ADU}}^2$"
      ],
      "text/plain": [
       "<IPython.core.display.Math object>"
      ]
     },
     "metadata": {},
     "output_type": "display_data"
    },
    {
     "data": {
      "text/latex": [
       "$\\displaystyle \\text{Divide Eq. 5 by 2 on both sides:}$"
      ],
      "text/plain": [
       "<IPython.core.display.Math object>"
      ]
     },
     "metadata": {},
     "output_type": "display_data"
    },
    {
     "data": {
      "text/latex": [
       "$\\displaystyle \\frac{\\text{Var}(B_{2,x,y} - B_{1,x,y})}{2} = \\sigma_{\\text{read,ADU}}^2\\text{   -->Eq. 6}$"
      ],
      "text/plain": [
       "<IPython.core.display.Math object>"
      ]
     },
     "metadata": {},
     "output_type": "display_data"
    },
    {
     "data": {
      "text/latex": [
       "$\\displaystyle \\text{Take the square root of Eq. 6 to get Readout Noise Expression:}$"
      ],
      "text/plain": [
       "<IPython.core.display.Math object>"
      ]
     },
     "metadata": {},
     "output_type": "display_data"
    },
    {
     "data": {
      "text/latex": [
       "$\\displaystyle \\sigma_{\\text{read,ADU}} = \\sqrt{\\frac{\\text{Var}(B_{2,x,y} - B_{1,x,y})}{2}}\\text{   -->Eq. 7}$"
      ],
      "text/plain": [
       "<IPython.core.display.Math object>"
      ]
     },
     "metadata": {},
     "output_type": "display_data"
    }
   ],
   "source": [
    "# 2: Write Expression for Readout Noise in units of ADU\n",
    "\n",
    "\n",
    "# Step 1: Start with Eq 5\n",
    "display(Math(r\"\\text{Start with the Eq. (5):}\"))\n",
    "display(Math(r\"\\text{Var}(B_{2,x,y} - B_{1,x,y}) = 2 \\sigma_{\\text{read,ADU}}^2\"))\n",
    "\n",
    "# Step 2: Divide Eq 5 by 2 on both sides\n",
    "display(Math(r\"\\text{Divide Eq. 5 by 2 on both sides:}\"))\n",
    "display(Math(r\"\\frac{\\text{Var}(B_{2,x,y} - B_{1,x,y})}{2} = \\sigma_{\\text{read,ADU}}^2\\text{   -->Eq. (6)}\"))\n",
    "\n",
    "# Step 3: Take the square root of both sides of Eq. 6\n",
    "display(Math(r\"\\text{Take the square root of Eq. 6 to get Readout Noise Expression:}\"))\n",
    "display(Math(r\"\\sigma_{\\text{read,ADU}} = \\sqrt{\\frac{\\text{Var}(B_{2,x,y} - B_{1,x,y})}{2}}\\text{   -->Eq. (7)}\"))\n",
    "\n",
    "# Final conclusion - Expression for Readout noise in ADU units\n",
    "#display(Math(r\"\\text{The expression for the readout noise in units of ADU is:}\"))\n",
    "#display(Math(r\"\\sigma_{\\text{read,ADU}} = \\sqrt{\\frac{\\text{Var}(B_{2,x,y} - B_{1,x,y})}{2}}\\text{   -->Eq. 8}\"))\n"
   ]
  },
  {
   "cell_type": "markdown",
   "metadata": {},
   "source": [
    "# 3: Estimate the Readout Noise in units of ADU\n",
    "\n",
    "1. Load the .fit files from the directory: /home/idies/workspace/Temporary/treed28/scratch/20240903/  \n",
    "2. Pair up the bias images ($B_{1}$,$B_{2}$), ($B_{3}$,$B_{4}$), ...\n",
    "3. Calculate the readout noise. For each pair of bias images :     \n",
    "    - Calculate the difference between the two images: $B_{2,x,y}$ - $B_{1,x,y}$   \n",
    "    - Compute the variance of the difference Var($B_{2,x,y}$ - $B_{1,x,y}$)  \n",
    "    - Use Eq 7 to estimate the readout noise, $\\sigma_{\\text{read,ADU}}$, for each pair of bias images  \n",
    "\n",
    "4. Average the readout noise over all independent pairs of bias images."
   ]
  },
  {
   "cell_type": "code",
   "execution_count": 42,
   "metadata": {
    "execution": {
     "iopub.execute_input": "2024-10-02T02:09:05.807541Z",
     "iopub.status.busy": "2024-10-02T02:09:05.806995Z",
     "iopub.status.idle": "2024-10-02T02:09:06.073029Z",
     "shell.execute_reply": "2024-10-02T02:09:06.071123Z",
     "shell.execute_reply.started": "2024-10-02T02:09:05.807493Z"
    },
    "tags": []
   },
   "outputs": [
    {
     "name": "stdout",
     "output_type": "stream",
     "text": [
      "Average Readout Noise (ADU): 11.220110190069471\n"
     ]
    }
   ],
   "source": [
    "import numpy as np\n",
    "import os\n",
    "from astropy.io import fits\n",
    "\n",
    "def load_fits_images(directory):\n",
    "    \"\"\"\n",
    "    Load FITS files that start with \"Bias\" and end with \".fit\" from the specified directory.\n",
    "    \n",
    "    Parameters:\n",
    "    directory: str\n",
    "        The path to the directory containing FITS files.\n",
    "        \n",
    "    Returns:\n",
    "    bias_images: List of numpy arrays representing the loaded bias images.\n",
    "    \"\"\"\n",
    "    bias_images = []\n",
    "    \n",
    "    # Loop through all files in the directory that match the \"Bias*.fit\" pattern\n",
    "    for file_name in sorted(os.listdir(directory)):\n",
    "        if file_name.startswith(\"Bias\") and file_name.endswith(\".fit\"):  # Check for \"Bias\" prefix and \".fit\" extension\n",
    "            # Load the FITS file\n",
    "            file_path = os.path.join(directory, file_name)\n",
    "            try:\n",
    "                with fits.open(file_path) as hdul:\n",
    "                    bias_image = hdul[0].data  # Get the image data from the FITS file\n",
    "                    if bias_image is not None:  # Ensure the data is not None\n",
    "                        bias_images.append(np.array(bias_image,dtype=float))\n",
    "            except Exception as e:\n",
    "                print(f\"Error loading {file_name}: {e}\")\n",
    "    \n",
    "    # Check if any images were loaded\n",
    "    if len(bias_images) == 0:\n",
    "        print(f\"No valid FITS files were loaded from {directory}.\")\n",
    "    \n",
    "    return bias_images\n",
    "\n",
    "def readout_noise_from_bias_images(bias_images):\n",
    "    \"\"\"\n",
    "    Estimate the readout noise in ADU from pairs of bias images.\n",
    "    \n",
    "    Parameters:\n",
    "    bias_images: List of numpy arrays representing the loaded bias images.\n",
    "    \n",
    "    Returns:\n",
    "    average_readout_noise: The average readout noise in ADU, or None if calculation fails.\n",
    "    \"\"\"\n",
    "    readout_noises = []\n",
    "\n",
    "    # Ensure we have an even number of bias images to form pairs\n",
    "    num_images = len(bias_images)\n",
    "    if num_images == 0:\n",
    "        print(\"No bias images to process.\")\n",
    "        return None\n",
    "\n",
    "    if num_images % 2 != 0:\n",
    "        print(\"Warning: Odd number of bias images. The last image will be ignored.\")\n",
    "        bias_images = bias_images[:-1]\n",
    "\n",
    "    # Loop over pairs of bias images\n",
    "    for i in range(0, len(bias_images), 2):\n",
    "        B1 = bias_images[i]\n",
    "        B2 = bias_images[i + 1]\n",
    "        \n",
    "        # Compute the difference between the two bias images\n",
    "        difference = B2 - B1\n",
    "        \n",
    "        # Compute the variance of the difference\n",
    "        variance_diff = np.var(difference)\n",
    "        \n",
    "        # Calculate the readout noise for this pair of images\n",
    "        sigma_read_ADU = np.sqrt(variance_diff / 2)\n",
    "        \n",
    "        # Append the result to the list of readout noises\n",
    "        readout_noises.append(sigma_read_ADU)\n",
    "\n",
    "    if len(readout_noises) == 0:\n",
    "        print(\"No valid readout noise values were computed.\")\n",
    "        return None\n",
    "\n",
    "    # Compute the average readout noise\n",
    "    average_readout_noise = np.mean(readout_noises)\n",
    "    \n",
    "    return average_readout_noise\n",
    "\n",
    "# Main process\n",
    "directory = '/home/idies/workspace/Temporary/treed28/scratch/20240903/'  # Directory containing bias FITS files\n",
    "\n",
    "# Load the bias images (only those starting with \"Bias\" and ending with \".fit\")\n",
    "bias_images = load_fits_images(directory)\n",
    "\n",
    "# Estimate the average readout noise\n",
    "average_noise = readout_noise_from_bias_images(bias_images)\n",
    "if average_noise is not None:\n",
    "    print(\"Average Readout Noise (ADU):\", average_noise)\n",
    "else:\n",
    "    print(\"Failed to calculate average readout noise.\")\n"
   ]
  },
  {
   "cell_type": "markdown",
   "metadata": {
    "jp-MarkdownHeadingCollapsed": true,
    "tags": []
   },
   "source": [
    "# Estimating Gain from Flat Fields & Biases"
   ]
  },
  {
   "cell_type": "markdown",
   "metadata": {
    "tags": []
   },
   "source": [
    "# 4: Find an expression for g.\n",
    "\n",
    "Starting from two expressions: (1) for the variance of a difference of two flat fields in units of electrons and (2) for the variance of the difference of two biases converted into units of ADU.\n",
    "\n",
    "\n",
    "\n",
    "1. First equation (1): $\\text{Var}(F_2 - F_1)_{e^-} = \\left(g \\sigma_{B_2 - B_1} \\right)^2$ where \n",
    "    - $\\text{Var}(F_{2} - F_{1})$ is the variance of the difference of two flat fields; units of electrons \n",
    "    - $\\sigma_{F_2 - F_1}$ is the standard deviation of the difference image; units of ADU\n",
    "\n",
    "2. Second equation (2): $\\text{Var}(F_2 - F_1)_{e^-} = g \\left( \\overline{F}_1 - \\overline{B}_1 \\right) + g \\left( \\overline{F}_2 - \\overline{B}_2 \\right) + \\left( g \\sigma_{B_2 - B_1} \\right)^2$\n",
    "\n",
    "\n"
   ]
  },
  {
   "cell_type": "code",
   "execution_count": 45,
   "metadata": {
    "execution": {
     "iopub.execute_input": "2024-10-02T03:08:43.680748Z",
     "iopub.status.busy": "2024-10-02T03:08:43.680227Z",
     "iopub.status.idle": "2024-10-02T03:08:43.745280Z",
     "shell.execute_reply": "2024-10-02T03:08:43.743910Z",
     "shell.execute_reply.started": "2024-10-02T03:08:43.680703Z"
    },
    "tags": []
   },
   "outputs": [
    {
     "data": {
      "text/latex": [
       "$\\displaystyle \\text{Step 1: Start with Eq. (1) & (2):}$"
      ],
      "text/plain": [
       "<IPython.core.display.Math object>"
      ]
     },
     "metadata": {},
     "output_type": "display_data"
    },
    {
     "data": {
      "text/latex": [
       "$\\displaystyle \\text{Var}(F_2 - F_1)_{\\text{e}^-} = (g \\sigma_{F_2 - F_1})^2\\text{   -->Eq. (1)}$"
      ],
      "text/plain": [
       "<IPython.core.display.Math object>"
      ]
     },
     "metadata": {},
     "output_type": "display_data"
    },
    {
     "data": {
      "text/latex": [
       "$\\displaystyle \\text{Var}(F_2 - F_1)_{\\text{e}^-} = g(F_1 - B_1) + g(F_2 - B_2) + (g \\sigma_{B_2 - B_1})^2\\text{   -->Eq. (2)}$"
      ],
      "text/plain": [
       "<IPython.core.display.Math object>"
      ]
     },
     "metadata": {},
     "output_type": "display_data"
    },
    {
     "data": {
      "text/latex": [
       "$\\displaystyle \\text{Step 2: Set Eq. (1) & (2) equal:}$"
      ],
      "text/plain": [
       "<IPython.core.display.Math object>"
      ]
     },
     "metadata": {},
     "output_type": "display_data"
    },
    {
     "data": {
      "text/latex": [
       "$\\displaystyle (g \\sigma_{F_2 - F_1})^2 = g(F_1 - B_1) + g(F_2 - B_2) + (g \\sigma_{B_2 - B_1})^2\\text{   -->Eq. (3)}$"
      ],
      "text/plain": [
       "<IPython.core.display.Math object>"
      ]
     },
     "metadata": {},
     "output_type": "display_data"
    },
    {
     "data": {
      "text/latex": [
       "$\\displaystyle \\text{Step 3: Divide through by } \\sigma_{F_2 - F_1}^2 \\text{ and g to simplify & solve for g:}$"
      ],
      "text/plain": [
       "<IPython.core.display.Math object>"
      ]
     },
     "metadata": {},
     "output_type": "display_data"
    },
    {
     "data": {
      "text/latex": [
       "$\\displaystyle g = \\frac{(F_1 - B_1) + (F_2 - B_2) + g\\sigma_{B_2 - B_1}^2}{\\sigma_{F_2 - F_1}^2}$"
      ],
      "text/plain": [
       "<IPython.core.display.Math object>"
      ]
     },
     "metadata": {},
     "output_type": "display_data"
    },
    {
     "data": {
      "text/latex": [
       "$\\displaystyle \\text{Step 4: Solve for } g:$"
      ],
      "text/plain": [
       "<IPython.core.display.Math object>"
      ]
     },
     "metadata": {},
     "output_type": "display_data"
    },
    {
     "data": {
      "text/latex": [
       "$\\displaystyle \\text{Thus, the expression for the gain } g \\text{ (in e-/ADU) is:}$"
      ],
      "text/plain": [
       "<IPython.core.display.Math object>"
      ]
     },
     "metadata": {},
     "output_type": "display_data"
    },
    {
     "data": {
      "text/latex": [
       "$\\displaystyle g = \\frac{(F_1 - B_1) + (F_2 - B_2) + \\sigma_{B_2 - B_1}^2}{\\sigma_{F_2 - F_1}^2}\\text{   -->Eq. (4)}$"
      ],
      "text/plain": [
       "<IPython.core.display.Math object>"
      ]
     },
     "metadata": {},
     "output_type": "display_data"
    }
   ],
   "source": [
    "from IPython.display import display, Math\n",
    "\n",
    "# Step 1: Display Eq. (1) & (2)\n",
    "display(Math(r\"\\text{Step 1: Start with Eq. (1) & (2):}\"))\n",
    "display(Math(r\"\\text{Var}(F_2 - F_1)_{\\text{e}^-} = (g \\sigma_{F_2 - F_1})^2\\text{   -->Eq. (1)}\"))\n",
    "display(Math(r\"\\text{Var}(F_2 - F_1)_{\\text{e}^-} = g(F_1 - B_1) + g(F_2 - B_2) + (g \\sigma_{B_2 - B_1})^2\\text{   -->Eq. (2)}\"))\n",
    "\n",
    "# Step 2: Set Eq. (1) & (2) equal\n",
    "display(Math(r\"\\text{Step 2: Set Eq. (1) & (2) equal:}\"))\n",
    "display(Math(r\"(g \\sigma_{F_2 - F_1})^2 = g(F_1 - B_1) + g(F_2 - B_2) + (g \\sigma_{B_2 - B_1})^2\\text{   -->Eq. (3)}\"))\n",
    "\n",
    "# Step 3: Divide Eq. (3) by $\\sigma_{F_2 - F_1}^2$ and g on both sides to simplify\n",
    "display(Math(r\"\\text{Step 3: Divide through by } \\sigma_{F_2 - F_1}^2 \\text{ and g to simplify & solve for g:}\"))\n",
    "#display(Math(r\"g \\sigma_{F_2 - F_1}^2 = (F_1 - B_1) + (F_2 - B_2) + \\sigma_{B_2 - B_1}^2\"))\n",
    "display(Math(r\"g = \\frac{(F_1 - B_1) + (F_2 - B_2) + g\\sigma_{B_2 - B_1}^2}{\\sigma_{F_2 - F_1}^2}\"))\n",
    "\n",
    "# Step 4: Solve for g\n",
    "display(Math(r\"\\text{Step 4: Solve for } g:\"))\n",
    "\n",
    "# Final conclusion\n",
    "display(Math(r\"\\text{Thus, the expression for the gain } g \\text{ (in e-/ADU) is:}\"))\n",
    "display(Math(r\"g = \\frac{(F_1 - B_1) + (F_2 - B_2) + \\sigma_{B_2 - B_1}^2}{\\sigma_{F_2 - F_1}^2}\\text{   -->Eq. (4)}\"))\n"
   ]
  },
  {
   "cell_type": "markdown",
   "metadata": {},
   "source": [
    "# 5: Write a python function that calculates the gain $g$ and the readout noise in units of electrons, $\\sigma_{read,e^-}$\n",
    "\n",
    "Calculate:\n",
    "1. The gain $g$; units of electrons per ADU. Eq. 4 derived in the previous section.\n",
    "\n",
    "Eq. (4) --> $$g = \\frac{(F_1 - B_1) + (F_2 - B_2) + \\sigma_{B_2 - B_1}^2}{\\sigma_{F_2 - F_1}^2}$$\n",
    "\n",
    "where:\n",
    "- $F_1$ and $F_2$ are flat field images\n",
    "- $B_1$ and $B_2$ are bias frames\n",
    "- $(\\sigma_{F_2 - F_1})^2$ is the variance of the difference of the two flat field images\n",
    "- $(\\sigma_{B_2 - B_1})^2$ is the variance of the difference of the two bias frames\n",
    "\n",
    "2. The readout noise $\\sigma_{read,e^-}$; units of electrons\n",
    "\n",
    "Eq. (5) --> $$\\sigma_{read,e^-} = g \\cdot \\sigma_{read,ADU}$$\n",
    "\n",
    "where:\n",
    "- $\\sigma_{read,ADU}$ is the readout noise in ADU\n",
    "\n",
    "$$\\sigma_{read,ADU} = \\sqrt{\\frac{Var(B_2 - B_1)}{2}}$$\n"
   ]
  },
  {
   "cell_type": "code",
   "execution_count": 44,
   "metadata": {
    "execution": {
     "iopub.execute_input": "2024-10-02T02:18:08.869877Z",
     "iopub.status.busy": "2024-10-02T02:18:08.869384Z",
     "iopub.status.idle": "2024-10-02T02:18:09.232100Z",
     "shell.execute_reply": "2024-10-02T02:18:09.230447Z",
     "shell.execute_reply.started": "2024-10-02T02:18:08.869831Z"
    },
    "tags": []
   },
   "outputs": [
    {
     "name": "stdout",
     "output_type": "stream",
     "text": [
      "Average Readout Noise (ADU): 11.220110190069471\n",
      "Gain (e-/ADU): 0.509378354321957\n",
      "Readout Noise (e-): 5.717365452342856\n"
     ]
    }
   ],
   "source": [
    "import numpy as np\n",
    "import os\n",
    "from astropy.io import fits\n",
    "\n",
    "def load_fits_images(directory, prefix):\n",
    "    \"\"\"\n",
    "    Load FITS files that start with the given prefix from the specified directory.\n",
    "    \n",
    "    Parameters:\n",
    "    directory: str\n",
    "        The path to the directory containing FITS files.\n",
    "    prefix: str\n",
    "        The prefix of the files to load (e.g., \"DomeFlat\", \"Bias\").\n",
    "        \n",
    "    Returns:\n",
    "    images: List of numpy arrays representing the loaded images.\n",
    "    \"\"\"\n",
    "    images = []\n",
    "    \n",
    "    # Loop through all files in the directory and load files with the matching prefix\n",
    "    for file_name in sorted(os.listdir(directory)):\n",
    "        if file_name.startswith(prefix) and file_name.endswith(\".fit\"):  # Check for matching prefix and \".fit\" extension\n",
    "            file_path = os.path.join(directory, file_name)\n",
    "            try:\n",
    "                with fits.open(file_path) as hdul:\n",
    "                    image_data = hdul[0].data  # Get the image data from the FITS file\n",
    "                    if image_data is not None:\n",
    "                        images.append(np.array(image_data, dtype=float))\n",
    "            except Exception as e:\n",
    "                print(f\"Error loading {file_name}: {e}\")\n",
    "    \n",
    "    # Check if any images were loaded\n",
    "    if len(images) == 0:\n",
    "        print(f\"No valid FITS files with prefix '{prefix}' were loaded from {directory}.\")\n",
    "    \n",
    "    return images\n",
    "\n",
    "def calculate_gain_and_readout_noise(flat1, flat2, bias1, bias2):\n",
    "    \"\"\"\n",
    "    Calculate the gain (g) in electrons/ADU and the readout noise in electrons.\n",
    "    \n",
    "    Parameters:\n",
    "    flat1: numpy array, first flat field image (in ADU)\n",
    "    flat2: numpy array, second flat field image (in ADU)\n",
    "    bias1: numpy array, first bias image (in ADU)\n",
    "    bias2: numpy array, second bias image (in ADU)\n",
    "    \n",
    "    Returns:\n",
    "    gain: float, the gain in e-/ADU\n",
    "    readout_noise_electrons: float, the readout noise in electrons\n",
    "    \"\"\"\n",
    "    \n",
    "    # Subtract bias from flat field images\n",
    "    F1_minus_B1 = np.mean(flat1 - bias1)\n",
    "    F2_minus_B2 = np.mean(flat2 - bias2)\n",
    "    \n",
    "    # Compute the variance of the difference between the flat field images\n",
    "    sigma_F_diff = np.var(flat2 - flat1)\n",
    "    \n",
    "    # Compute the variance of the difference between the bias images\n",
    "    sigma_B_diff = np.var(bias2 - bias1)\n",
    "    \n",
    "    # Calculate the gain using the formula\n",
    "    gain = (F1_minus_B1 + F2_minus_B2 + sigma_B_diff) / sigma_F_diff\n",
    "    \n",
    "    # Estimate the readout noise in ADU\n",
    "    sigma_read_ADU = np.sqrt(sigma_B_diff / 2)\n",
    "    \n",
    "    # Calculate the readout noise in electrons\n",
    "    readout_noise_electrons = gain * sigma_read_ADU\n",
    "    \n",
    "    return gain, readout_noise_electrons\n",
    "\n",
    "# Main process\n",
    "directory = '/home/idies/workspace/Temporary/treed28/scratch/20240903/'  # Directory containing bias and flat FITS files\n",
    "\n",
    "# Load the flat field images (those starting with \"DomeFlat\")\n",
    "flat_images = load_fits_images(directory, \"DomeFlat\")\n",
    "\n",
    "# Load the bias images (those starting with \"Bias\")\n",
    "bias_images = load_fits_images(directory, \"Bias\")\n",
    "\n",
    "# Ensure that we have at least two flat field images and two bias images\n",
    "if len(flat_images) >= 2 and len(bias_images) >= 2:\n",
    "    # Use the first two flat images and the first two bias images to calculate gain and readout noise\n",
    "    gain, readout_noise = calculate_gain_and_readout_noise(flat_images[0], flat_images[1], bias_images[0], bias_images[1])\n",
    "    \n",
    "    # Print the results\n",
    "    print(\"Average Readout Noise (ADU):\", average_noise)\n",
    "    print(f\"Gain (e-/ADU): {gain}\")\n",
    "    print(f\"Readout Noise (e-): {readout_noise}\")\n",
    "else:\n",
    "    print(\"Not enough flat field or bias images to perform calculations.\")\n"
   ]
  },
  {
   "cell_type": "code",
   "execution_count": null,
   "metadata": {},
   "outputs": [],
   "source": []
  }
 ],
 "metadata": {
  "kernelspec": {
   "display_name": "Python 3.8 (py38)",
   "language": "python",
   "name": "py38"
  },
  "language_info": {
   "codemirror_mode": {
    "name": "ipython",
    "version": 3
   },
   "file_extension": ".py",
   "mimetype": "text/x-python",
   "name": "python",
   "nbconvert_exporter": "python",
   "pygments_lexer": "ipython3",
   "version": "3.8.5"
  }
 },
 "nbformat": 4,
 "nbformat_minor": 4
}
